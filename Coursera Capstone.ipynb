{
 "cells": [
  {
   "cell_type": "markdown",
   "metadata": {},
   "source": [
    "# Coursera Capstone Project\n",
    "Zi Yi Mok"
   ]
  },
  {
   "cell_type": "code",
   "execution_count": 1,
   "metadata": {},
   "outputs": [],
   "source": [
    "##import required libraries\n",
    "import pandas as pd\n",
    "import pylab as pl\n",
    "import numpy as np\n",
    "import scipy.optimize as opt\n",
    "from sklearn import preprocessing\n",
    "from sklearn.model_selection import train_test_split\n",
    "from datetime import datetime\n",
    "\n",
    "%matplotlib inline \n",
    "import matplotlib.pyplot as plt\n",
    "import seaborn as sns"
   ]
  },
  {
   "cell_type": "code",
   "execution_count": 2,
   "metadata": {},
   "outputs": [
    {
     "name": "stderr",
     "output_type": "stream",
     "text": [
      "C:\\Users\\User\\anaconda3\\lib\\site-packages\\IPython\\core\\interactiveshell.py:3071: DtypeWarning: Columns (32) have mixed types.Specify dtype option on import or set low_memory=False.\n",
      "  has_raised = await self.run_ast_nodes(code_ast.body, cell_name,\n"
     ]
    }
   ],
   "source": [
    "##read csv\n",
    "df = pd.read_csv(\"Data-Collisions.csv\")"
   ]
  },
  {
   "cell_type": "code",
   "execution_count": 3,
   "metadata": {},
   "outputs": [
    {
     "data": {
      "text/html": [
       "<div>\n",
       "<style scoped>\n",
       "    .dataframe tbody tr th:only-of-type {\n",
       "        vertical-align: middle;\n",
       "    }\n",
       "\n",
       "    .dataframe tbody tr th {\n",
       "        vertical-align: top;\n",
       "    }\n",
       "\n",
       "    .dataframe thead th {\n",
       "        text-align: right;\n",
       "    }\n",
       "</style>\n",
       "<table border=\"1\" class=\"dataframe\">\n",
       "  <thead>\n",
       "    <tr style=\"text-align: right;\">\n",
       "      <th></th>\n",
       "      <th>SEVERITYCODE</th>\n",
       "      <th>X</th>\n",
       "      <th>Y</th>\n",
       "      <th>OBJECTID</th>\n",
       "      <th>INCKEY</th>\n",
       "      <th>COLDETKEY</th>\n",
       "      <th>REPORTNO</th>\n",
       "      <th>STATUS</th>\n",
       "      <th>ADDRTYPE</th>\n",
       "      <th>INTKEY</th>\n",
       "      <th>...</th>\n",
       "      <th>ROADCOND</th>\n",
       "      <th>LIGHTCOND</th>\n",
       "      <th>PEDROWNOTGRNT</th>\n",
       "      <th>SDOTCOLNUM</th>\n",
       "      <th>SPEEDING</th>\n",
       "      <th>ST_COLCODE</th>\n",
       "      <th>ST_COLDESC</th>\n",
       "      <th>SEGLANEKEY</th>\n",
       "      <th>CROSSWALKKEY</th>\n",
       "      <th>HITPARKEDCAR</th>\n",
       "    </tr>\n",
       "  </thead>\n",
       "  <tbody>\n",
       "    <tr>\n",
       "      <th>0</th>\n",
       "      <td>2</td>\n",
       "      <td>-122.323148</td>\n",
       "      <td>47.703140</td>\n",
       "      <td>1</td>\n",
       "      <td>1307</td>\n",
       "      <td>1307</td>\n",
       "      <td>3502005</td>\n",
       "      <td>Matched</td>\n",
       "      <td>Intersection</td>\n",
       "      <td>37475.0</td>\n",
       "      <td>...</td>\n",
       "      <td>Wet</td>\n",
       "      <td>Daylight</td>\n",
       "      <td>NaN</td>\n",
       "      <td>NaN</td>\n",
       "      <td>NaN</td>\n",
       "      <td>10</td>\n",
       "      <td>Entering at angle</td>\n",
       "      <td>0</td>\n",
       "      <td>0</td>\n",
       "      <td>N</td>\n",
       "    </tr>\n",
       "    <tr>\n",
       "      <th>1</th>\n",
       "      <td>1</td>\n",
       "      <td>-122.347294</td>\n",
       "      <td>47.647172</td>\n",
       "      <td>2</td>\n",
       "      <td>52200</td>\n",
       "      <td>52200</td>\n",
       "      <td>2607959</td>\n",
       "      <td>Matched</td>\n",
       "      <td>Block</td>\n",
       "      <td>NaN</td>\n",
       "      <td>...</td>\n",
       "      <td>Wet</td>\n",
       "      <td>Dark - Street Lights On</td>\n",
       "      <td>NaN</td>\n",
       "      <td>6354039.0</td>\n",
       "      <td>NaN</td>\n",
       "      <td>11</td>\n",
       "      <td>From same direction - both going straight - bo...</td>\n",
       "      <td>0</td>\n",
       "      <td>0</td>\n",
       "      <td>N</td>\n",
       "    </tr>\n",
       "    <tr>\n",
       "      <th>2</th>\n",
       "      <td>1</td>\n",
       "      <td>-122.334540</td>\n",
       "      <td>47.607871</td>\n",
       "      <td>3</td>\n",
       "      <td>26700</td>\n",
       "      <td>26700</td>\n",
       "      <td>1482393</td>\n",
       "      <td>Matched</td>\n",
       "      <td>Block</td>\n",
       "      <td>NaN</td>\n",
       "      <td>...</td>\n",
       "      <td>Dry</td>\n",
       "      <td>Daylight</td>\n",
       "      <td>NaN</td>\n",
       "      <td>4323031.0</td>\n",
       "      <td>NaN</td>\n",
       "      <td>32</td>\n",
       "      <td>One parked--one moving</td>\n",
       "      <td>0</td>\n",
       "      <td>0</td>\n",
       "      <td>N</td>\n",
       "    </tr>\n",
       "    <tr>\n",
       "      <th>3</th>\n",
       "      <td>1</td>\n",
       "      <td>-122.334803</td>\n",
       "      <td>47.604803</td>\n",
       "      <td>4</td>\n",
       "      <td>1144</td>\n",
       "      <td>1144</td>\n",
       "      <td>3503937</td>\n",
       "      <td>Matched</td>\n",
       "      <td>Block</td>\n",
       "      <td>NaN</td>\n",
       "      <td>...</td>\n",
       "      <td>Dry</td>\n",
       "      <td>Daylight</td>\n",
       "      <td>NaN</td>\n",
       "      <td>NaN</td>\n",
       "      <td>NaN</td>\n",
       "      <td>23</td>\n",
       "      <td>From same direction - all others</td>\n",
       "      <td>0</td>\n",
       "      <td>0</td>\n",
       "      <td>N</td>\n",
       "    </tr>\n",
       "    <tr>\n",
       "      <th>4</th>\n",
       "      <td>2</td>\n",
       "      <td>-122.306426</td>\n",
       "      <td>47.545739</td>\n",
       "      <td>5</td>\n",
       "      <td>17700</td>\n",
       "      <td>17700</td>\n",
       "      <td>1807429</td>\n",
       "      <td>Matched</td>\n",
       "      <td>Intersection</td>\n",
       "      <td>34387.0</td>\n",
       "      <td>...</td>\n",
       "      <td>Wet</td>\n",
       "      <td>Daylight</td>\n",
       "      <td>NaN</td>\n",
       "      <td>4028032.0</td>\n",
       "      <td>NaN</td>\n",
       "      <td>10</td>\n",
       "      <td>Entering at angle</td>\n",
       "      <td>0</td>\n",
       "      <td>0</td>\n",
       "      <td>N</td>\n",
       "    </tr>\n",
       "  </tbody>\n",
       "</table>\n",
       "<p>5 rows × 37 columns</p>\n",
       "</div>"
      ],
      "text/plain": [
       "   SEVERITYCODE           X          Y  OBJECTID  INCKEY  COLDETKEY REPORTNO  \\\n",
       "0             2 -122.323148  47.703140         1    1307       1307  3502005   \n",
       "1             1 -122.347294  47.647172         2   52200      52200  2607959   \n",
       "2             1 -122.334540  47.607871         3   26700      26700  1482393   \n",
       "3             1 -122.334803  47.604803         4    1144       1144  3503937   \n",
       "4             2 -122.306426  47.545739         5   17700      17700  1807429   \n",
       "\n",
       "    STATUS      ADDRTYPE   INTKEY  ... ROADCOND                LIGHTCOND  \\\n",
       "0  Matched  Intersection  37475.0  ...      Wet                 Daylight   \n",
       "1  Matched         Block      NaN  ...      Wet  Dark - Street Lights On   \n",
       "2  Matched         Block      NaN  ...      Dry                 Daylight   \n",
       "3  Matched         Block      NaN  ...      Dry                 Daylight   \n",
       "4  Matched  Intersection  34387.0  ...      Wet                 Daylight   \n",
       "\n",
       "  PEDROWNOTGRNT SDOTCOLNUM SPEEDING  ST_COLCODE  \\\n",
       "0           NaN        NaN      NaN          10   \n",
       "1           NaN  6354039.0      NaN          11   \n",
       "2           NaN  4323031.0      NaN          32   \n",
       "3           NaN        NaN      NaN          23   \n",
       "4           NaN  4028032.0      NaN          10   \n",
       "\n",
       "                                          ST_COLDESC  SEGLANEKEY  \\\n",
       "0                                  Entering at angle           0   \n",
       "1  From same direction - both going straight - bo...           0   \n",
       "2                             One parked--one moving           0   \n",
       "3                   From same direction - all others           0   \n",
       "4                                  Entering at angle           0   \n",
       "\n",
       "   CROSSWALKKEY HITPARKEDCAR  \n",
       "0             0            N  \n",
       "1             0            N  \n",
       "2             0            N  \n",
       "3             0            N  \n",
       "4             0            N  \n",
       "\n",
       "[5 rows x 37 columns]"
      ]
     },
     "execution_count": 3,
     "metadata": {},
     "output_type": "execute_result"
    }
   ],
   "source": [
    "df.head()"
   ]
  },
  {
   "cell_type": "code",
   "execution_count": 4,
   "metadata": {},
   "outputs": [
    {
     "data": {
      "text/html": [
       "<div>\n",
       "<style scoped>\n",
       "    .dataframe tbody tr th:only-of-type {\n",
       "        vertical-align: middle;\n",
       "    }\n",
       "\n",
       "    .dataframe tbody tr th {\n",
       "        vertical-align: top;\n",
       "    }\n",
       "\n",
       "    .dataframe thead th {\n",
       "        text-align: right;\n",
       "    }\n",
       "</style>\n",
       "<table border=\"1\" class=\"dataframe\">\n",
       "  <thead>\n",
       "    <tr style=\"text-align: right;\">\n",
       "      <th></th>\n",
       "      <th>SEVERITYCODE</th>\n",
       "      <th>X</th>\n",
       "      <th>Y</th>\n",
       "      <th>OBJECTID</th>\n",
       "      <th>INCKEY</th>\n",
       "      <th>COLDETKEY</th>\n",
       "      <th>REPORTNO</th>\n",
       "      <th>STATUS</th>\n",
       "      <th>ADDRTYPE</th>\n",
       "      <th>INTKEY</th>\n",
       "      <th>...</th>\n",
       "      <th>ROADCOND</th>\n",
       "      <th>LIGHTCOND</th>\n",
       "      <th>PEDROWNOTGRNT</th>\n",
       "      <th>SDOTCOLNUM</th>\n",
       "      <th>SPEEDING</th>\n",
       "      <th>ST_COLCODE</th>\n",
       "      <th>ST_COLDESC</th>\n",
       "      <th>SEGLANEKEY</th>\n",
       "      <th>CROSSWALKKEY</th>\n",
       "      <th>HITPARKEDCAR</th>\n",
       "    </tr>\n",
       "  </thead>\n",
       "  <tbody>\n",
       "    <tr>\n",
       "      <th>count</th>\n",
       "      <td>194673.000000</td>\n",
       "      <td>189339.000000</td>\n",
       "      <td>189339.000000</td>\n",
       "      <td>194673.000000</td>\n",
       "      <td>194673.000000</td>\n",
       "      <td>194673.000000</td>\n",
       "      <td>194673</td>\n",
       "      <td>194673</td>\n",
       "      <td>192747</td>\n",
       "      <td>65070.000000</td>\n",
       "      <td>...</td>\n",
       "      <td>189661</td>\n",
       "      <td>189503</td>\n",
       "      <td>4667</td>\n",
       "      <td>1.149360e+05</td>\n",
       "      <td>9333</td>\n",
       "      <td>194655</td>\n",
       "      <td>189769</td>\n",
       "      <td>194673.000000</td>\n",
       "      <td>1.946730e+05</td>\n",
       "      <td>194673</td>\n",
       "    </tr>\n",
       "    <tr>\n",
       "      <th>unique</th>\n",
       "      <td>NaN</td>\n",
       "      <td>NaN</td>\n",
       "      <td>NaN</td>\n",
       "      <td>NaN</td>\n",
       "      <td>NaN</td>\n",
       "      <td>NaN</td>\n",
       "      <td>194670</td>\n",
       "      <td>2</td>\n",
       "      <td>3</td>\n",
       "      <td>NaN</td>\n",
       "      <td>...</td>\n",
       "      <td>9</td>\n",
       "      <td>9</td>\n",
       "      <td>1</td>\n",
       "      <td>NaN</td>\n",
       "      <td>1</td>\n",
       "      <td>115</td>\n",
       "      <td>62</td>\n",
       "      <td>NaN</td>\n",
       "      <td>NaN</td>\n",
       "      <td>2</td>\n",
       "    </tr>\n",
       "    <tr>\n",
       "      <th>top</th>\n",
       "      <td>NaN</td>\n",
       "      <td>NaN</td>\n",
       "      <td>NaN</td>\n",
       "      <td>NaN</td>\n",
       "      <td>NaN</td>\n",
       "      <td>NaN</td>\n",
       "      <td>1776526</td>\n",
       "      <td>Matched</td>\n",
       "      <td>Block</td>\n",
       "      <td>NaN</td>\n",
       "      <td>...</td>\n",
       "      <td>Dry</td>\n",
       "      <td>Daylight</td>\n",
       "      <td>Y</td>\n",
       "      <td>NaN</td>\n",
       "      <td>Y</td>\n",
       "      <td>32</td>\n",
       "      <td>One parked--one moving</td>\n",
       "      <td>NaN</td>\n",
       "      <td>NaN</td>\n",
       "      <td>N</td>\n",
       "    </tr>\n",
       "    <tr>\n",
       "      <th>freq</th>\n",
       "      <td>NaN</td>\n",
       "      <td>NaN</td>\n",
       "      <td>NaN</td>\n",
       "      <td>NaN</td>\n",
       "      <td>NaN</td>\n",
       "      <td>NaN</td>\n",
       "      <td>2</td>\n",
       "      <td>189786</td>\n",
       "      <td>126926</td>\n",
       "      <td>NaN</td>\n",
       "      <td>...</td>\n",
       "      <td>124510</td>\n",
       "      <td>116137</td>\n",
       "      <td>4667</td>\n",
       "      <td>NaN</td>\n",
       "      <td>9333</td>\n",
       "      <td>27612</td>\n",
       "      <td>44421</td>\n",
       "      <td>NaN</td>\n",
       "      <td>NaN</td>\n",
       "      <td>187457</td>\n",
       "    </tr>\n",
       "    <tr>\n",
       "      <th>mean</th>\n",
       "      <td>1.298901</td>\n",
       "      <td>-122.330518</td>\n",
       "      <td>47.619543</td>\n",
       "      <td>108479.364930</td>\n",
       "      <td>141091.456350</td>\n",
       "      <td>141298.811381</td>\n",
       "      <td>NaN</td>\n",
       "      <td>NaN</td>\n",
       "      <td>NaN</td>\n",
       "      <td>37558.450576</td>\n",
       "      <td>...</td>\n",
       "      <td>NaN</td>\n",
       "      <td>NaN</td>\n",
       "      <td>NaN</td>\n",
       "      <td>7.972521e+06</td>\n",
       "      <td>NaN</td>\n",
       "      <td>NaN</td>\n",
       "      <td>NaN</td>\n",
       "      <td>269.401114</td>\n",
       "      <td>9.782452e+03</td>\n",
       "      <td>NaN</td>\n",
       "    </tr>\n",
       "    <tr>\n",
       "      <th>std</th>\n",
       "      <td>0.457778</td>\n",
       "      <td>0.029976</td>\n",
       "      <td>0.056157</td>\n",
       "      <td>62649.722558</td>\n",
       "      <td>86634.402737</td>\n",
       "      <td>86986.542110</td>\n",
       "      <td>NaN</td>\n",
       "      <td>NaN</td>\n",
       "      <td>NaN</td>\n",
       "      <td>51745.990273</td>\n",
       "      <td>...</td>\n",
       "      <td>NaN</td>\n",
       "      <td>NaN</td>\n",
       "      <td>NaN</td>\n",
       "      <td>2.553533e+06</td>\n",
       "      <td>NaN</td>\n",
       "      <td>NaN</td>\n",
       "      <td>NaN</td>\n",
       "      <td>3315.776055</td>\n",
       "      <td>7.226926e+04</td>\n",
       "      <td>NaN</td>\n",
       "    </tr>\n",
       "    <tr>\n",
       "      <th>min</th>\n",
       "      <td>1.000000</td>\n",
       "      <td>-122.419091</td>\n",
       "      <td>47.495573</td>\n",
       "      <td>1.000000</td>\n",
       "      <td>1001.000000</td>\n",
       "      <td>1001.000000</td>\n",
       "      <td>NaN</td>\n",
       "      <td>NaN</td>\n",
       "      <td>NaN</td>\n",
       "      <td>23807.000000</td>\n",
       "      <td>...</td>\n",
       "      <td>NaN</td>\n",
       "      <td>NaN</td>\n",
       "      <td>NaN</td>\n",
       "      <td>1.007024e+06</td>\n",
       "      <td>NaN</td>\n",
       "      <td>NaN</td>\n",
       "      <td>NaN</td>\n",
       "      <td>0.000000</td>\n",
       "      <td>0.000000e+00</td>\n",
       "      <td>NaN</td>\n",
       "    </tr>\n",
       "    <tr>\n",
       "      <th>25%</th>\n",
       "      <td>1.000000</td>\n",
       "      <td>-122.348673</td>\n",
       "      <td>47.575956</td>\n",
       "      <td>54267.000000</td>\n",
       "      <td>70383.000000</td>\n",
       "      <td>70383.000000</td>\n",
       "      <td>NaN</td>\n",
       "      <td>NaN</td>\n",
       "      <td>NaN</td>\n",
       "      <td>28667.000000</td>\n",
       "      <td>...</td>\n",
       "      <td>NaN</td>\n",
       "      <td>NaN</td>\n",
       "      <td>NaN</td>\n",
       "      <td>6.040015e+06</td>\n",
       "      <td>NaN</td>\n",
       "      <td>NaN</td>\n",
       "      <td>NaN</td>\n",
       "      <td>0.000000</td>\n",
       "      <td>0.000000e+00</td>\n",
       "      <td>NaN</td>\n",
       "    </tr>\n",
       "    <tr>\n",
       "      <th>50%</th>\n",
       "      <td>1.000000</td>\n",
       "      <td>-122.330224</td>\n",
       "      <td>47.615369</td>\n",
       "      <td>106912.000000</td>\n",
       "      <td>123363.000000</td>\n",
       "      <td>123363.000000</td>\n",
       "      <td>NaN</td>\n",
       "      <td>NaN</td>\n",
       "      <td>NaN</td>\n",
       "      <td>29973.000000</td>\n",
       "      <td>...</td>\n",
       "      <td>NaN</td>\n",
       "      <td>NaN</td>\n",
       "      <td>NaN</td>\n",
       "      <td>8.023022e+06</td>\n",
       "      <td>NaN</td>\n",
       "      <td>NaN</td>\n",
       "      <td>NaN</td>\n",
       "      <td>0.000000</td>\n",
       "      <td>0.000000e+00</td>\n",
       "      <td>NaN</td>\n",
       "    </tr>\n",
       "    <tr>\n",
       "      <th>75%</th>\n",
       "      <td>2.000000</td>\n",
       "      <td>-122.311937</td>\n",
       "      <td>47.663664</td>\n",
       "      <td>162272.000000</td>\n",
       "      <td>203319.000000</td>\n",
       "      <td>203459.000000</td>\n",
       "      <td>NaN</td>\n",
       "      <td>NaN</td>\n",
       "      <td>NaN</td>\n",
       "      <td>33973.000000</td>\n",
       "      <td>...</td>\n",
       "      <td>NaN</td>\n",
       "      <td>NaN</td>\n",
       "      <td>NaN</td>\n",
       "      <td>1.015501e+07</td>\n",
       "      <td>NaN</td>\n",
       "      <td>NaN</td>\n",
       "      <td>NaN</td>\n",
       "      <td>0.000000</td>\n",
       "      <td>0.000000e+00</td>\n",
       "      <td>NaN</td>\n",
       "    </tr>\n",
       "    <tr>\n",
       "      <th>max</th>\n",
       "      <td>2.000000</td>\n",
       "      <td>-122.238949</td>\n",
       "      <td>47.734142</td>\n",
       "      <td>219547.000000</td>\n",
       "      <td>331454.000000</td>\n",
       "      <td>332954.000000</td>\n",
       "      <td>NaN</td>\n",
       "      <td>NaN</td>\n",
       "      <td>NaN</td>\n",
       "      <td>757580.000000</td>\n",
       "      <td>...</td>\n",
       "      <td>NaN</td>\n",
       "      <td>NaN</td>\n",
       "      <td>NaN</td>\n",
       "      <td>1.307202e+07</td>\n",
       "      <td>NaN</td>\n",
       "      <td>NaN</td>\n",
       "      <td>NaN</td>\n",
       "      <td>525241.000000</td>\n",
       "      <td>5.239700e+06</td>\n",
       "      <td>NaN</td>\n",
       "    </tr>\n",
       "  </tbody>\n",
       "</table>\n",
       "<p>11 rows × 37 columns</p>\n",
       "</div>"
      ],
      "text/plain": [
       "         SEVERITYCODE              X              Y       OBJECTID  \\\n",
       "count   194673.000000  189339.000000  189339.000000  194673.000000   \n",
       "unique            NaN            NaN            NaN            NaN   \n",
       "top               NaN            NaN            NaN            NaN   \n",
       "freq              NaN            NaN            NaN            NaN   \n",
       "mean         1.298901    -122.330518      47.619543  108479.364930   \n",
       "std          0.457778       0.029976       0.056157   62649.722558   \n",
       "min          1.000000    -122.419091      47.495573       1.000000   \n",
       "25%          1.000000    -122.348673      47.575956   54267.000000   \n",
       "50%          1.000000    -122.330224      47.615369  106912.000000   \n",
       "75%          2.000000    -122.311937      47.663664  162272.000000   \n",
       "max          2.000000    -122.238949      47.734142  219547.000000   \n",
       "\n",
       "               INCKEY      COLDETKEY REPORTNO   STATUS ADDRTYPE  \\\n",
       "count   194673.000000  194673.000000   194673   194673   192747   \n",
       "unique            NaN            NaN   194670        2        3   \n",
       "top               NaN            NaN  1776526  Matched    Block   \n",
       "freq              NaN            NaN        2   189786   126926   \n",
       "mean    141091.456350  141298.811381      NaN      NaN      NaN   \n",
       "std      86634.402737   86986.542110      NaN      NaN      NaN   \n",
       "min       1001.000000    1001.000000      NaN      NaN      NaN   \n",
       "25%      70383.000000   70383.000000      NaN      NaN      NaN   \n",
       "50%     123363.000000  123363.000000      NaN      NaN      NaN   \n",
       "75%     203319.000000  203459.000000      NaN      NaN      NaN   \n",
       "max     331454.000000  332954.000000      NaN      NaN      NaN   \n",
       "\n",
       "               INTKEY  ... ROADCOND LIGHTCOND PEDROWNOTGRNT    SDOTCOLNUM  \\\n",
       "count    65070.000000  ...   189661    189503          4667  1.149360e+05   \n",
       "unique            NaN  ...        9         9             1           NaN   \n",
       "top               NaN  ...      Dry  Daylight             Y           NaN   \n",
       "freq              NaN  ...   124510    116137          4667           NaN   \n",
       "mean     37558.450576  ...      NaN       NaN           NaN  7.972521e+06   \n",
       "std      51745.990273  ...      NaN       NaN           NaN  2.553533e+06   \n",
       "min      23807.000000  ...      NaN       NaN           NaN  1.007024e+06   \n",
       "25%      28667.000000  ...      NaN       NaN           NaN  6.040015e+06   \n",
       "50%      29973.000000  ...      NaN       NaN           NaN  8.023022e+06   \n",
       "75%      33973.000000  ...      NaN       NaN           NaN  1.015501e+07   \n",
       "max     757580.000000  ...      NaN       NaN           NaN  1.307202e+07   \n",
       "\n",
       "       SPEEDING  ST_COLCODE              ST_COLDESC     SEGLANEKEY  \\\n",
       "count      9333      194655                  189769  194673.000000   \n",
       "unique        1         115                      62            NaN   \n",
       "top           Y          32  One parked--one moving            NaN   \n",
       "freq       9333       27612                   44421            NaN   \n",
       "mean        NaN         NaN                     NaN     269.401114   \n",
       "std         NaN         NaN                     NaN    3315.776055   \n",
       "min         NaN         NaN                     NaN       0.000000   \n",
       "25%         NaN         NaN                     NaN       0.000000   \n",
       "50%         NaN         NaN                     NaN       0.000000   \n",
       "75%         NaN         NaN                     NaN       0.000000   \n",
       "max         NaN         NaN                     NaN  525241.000000   \n",
       "\n",
       "        CROSSWALKKEY HITPARKEDCAR  \n",
       "count   1.946730e+05       194673  \n",
       "unique           NaN            2  \n",
       "top              NaN            N  \n",
       "freq             NaN       187457  \n",
       "mean    9.782452e+03          NaN  \n",
       "std     7.226926e+04          NaN  \n",
       "min     0.000000e+00          NaN  \n",
       "25%     0.000000e+00          NaN  \n",
       "50%     0.000000e+00          NaN  \n",
       "75%     0.000000e+00          NaN  \n",
       "max     5.239700e+06          NaN  \n",
       "\n",
       "[11 rows x 37 columns]"
      ]
     },
     "execution_count": 4,
     "metadata": {},
     "output_type": "execute_result"
    }
   ],
   "source": [
    "df.describe(include=\"all\")"
   ]
  },
  {
   "cell_type": "code",
   "execution_count": 5,
   "metadata": {},
   "outputs": [
    {
     "data": {
      "text/plain": [
       "SEVERITYCODE        int64\n",
       "X                 float64\n",
       "Y                 float64\n",
       "OBJECTID            int64\n",
       "INCKEY              int64\n",
       "COLDETKEY           int64\n",
       "REPORTNO           object\n",
       "STATUS             object\n",
       "ADDRTYPE           object\n",
       "INTKEY            float64\n",
       "LOCATION           object\n",
       "EXCEPTRSNCODE      object\n",
       "EXCEPTRSNDESC      object\n",
       "SEVERITYDESC       object\n",
       "COLLISIONTYPE      object\n",
       "PERSONCOUNT         int64\n",
       "PEDCOUNT            int64\n",
       "PEDCYLCOUNT         int64\n",
       "VEHCOUNT            int64\n",
       "INCDATE            object\n",
       "INCDTTM            object\n",
       "JUNCTIONTYPE       object\n",
       "SDOT_COLCODE        int64\n",
       "SDOT_COLDESC       object\n",
       "INATTENTIONIND     object\n",
       "UNDERINFL          object\n",
       "WEATHER            object\n",
       "ROADCOND           object\n",
       "LIGHTCOND          object\n",
       "PEDROWNOTGRNT      object\n",
       "SDOTCOLNUM        float64\n",
       "SPEEDING           object\n",
       "ST_COLCODE         object\n",
       "ST_COLDESC         object\n",
       "SEGLANEKEY          int64\n",
       "CROSSWALKKEY        int64\n",
       "HITPARKEDCAR       object\n",
       "dtype: object"
      ]
     },
     "execution_count": 5,
     "metadata": {},
     "output_type": "execute_result"
    }
   ],
   "source": [
    "df.dtypes"
   ]
  },
  {
   "cell_type": "code",
   "execution_count": 6,
   "metadata": {},
   "outputs": [],
   "source": [
    "#due to system limitaion - unable to process so many records, only select records with years 2017, 2018 and 2019\n",
    "Years = ['2017','2018','2019']\n",
    "df=df[df['INCDATE'].str[:4].isin(Years)]"
   ]
  },
  {
   "cell_type": "code",
   "execution_count": 7,
   "metadata": {},
   "outputs": [
    {
     "data": {
      "text/plain": [
       "(30704, 37)"
      ]
     },
     "execution_count": 7,
     "metadata": {},
     "output_type": "execute_result"
    }
   ],
   "source": [
    "df.shape"
   ]
  },
  {
   "cell_type": "markdown",
   "metadata": {},
   "source": [
    "# Data Cleaning"
   ]
  },
  {
   "cell_type": "code",
   "execution_count": 8,
   "metadata": {},
   "outputs": [],
   "source": [
    "##drop description\n",
    "df.drop(['SEVERITYDESC','SDOT_COLDESC','ST_COLDESC'], axis=1, inplace=True)"
   ]
  },
  {
   "cell_type": "code",
   "execution_count": 9,
   "metadata": {},
   "outputs": [],
   "source": [
    "##drop identifiers not used to predict severity\n",
    "df.drop(['OBJECTID','INCKEY','COLDETKEY','REPORTNO','STATUS','EXCEPTRSNCODE','EXCEPTRSNDESC','SDOTCOLNUM'], axis=1, inplace=True)"
   ]
  },
  {
   "cell_type": "code",
   "execution_count": 10,
   "metadata": {},
   "outputs": [],
   "source": [
    "##drop location data as all are in Seattle\n",
    "df.drop(['LOCATION','X','Y','INTKEY','SEGLANEKEY','CROSSWALKKEY'], axis=1, inplace=True)"
   ]
  },
  {
   "cell_type": "code",
   "execution_count": 11,
   "metadata": {},
   "outputs": [],
   "source": [
    "##drop date and time\n",
    "df.drop(['INCDATE','INCDTTM'], axis=1, inplace=True)"
   ]
  },
  {
   "cell_type": "code",
   "execution_count": 12,
   "metadata": {},
   "outputs": [
    {
     "name": "stdout",
     "output_type": "stream",
     "text": [
      "SEVERITYCODE\n",
      "False    30704\n",
      "Name: SEVERITYCODE, dtype: int64\n",
      "\n",
      "ADDRTYPE\n",
      "False    30555\n",
      "True       149\n",
      "Name: ADDRTYPE, dtype: int64\n",
      "\n",
      "COLLISIONTYPE\n",
      "False    29141\n",
      "True      1563\n",
      "Name: COLLISIONTYPE, dtype: int64\n",
      "\n",
      "PERSONCOUNT\n",
      "False    30704\n",
      "Name: PERSONCOUNT, dtype: int64\n",
      "\n",
      "PEDCOUNT\n",
      "False    30704\n",
      "Name: PEDCOUNT, dtype: int64\n",
      "\n",
      "PEDCYLCOUNT\n",
      "False    30704\n",
      "Name: PEDCYLCOUNT, dtype: int64\n",
      "\n",
      "VEHCOUNT\n",
      "False    30704\n",
      "Name: VEHCOUNT, dtype: int64\n",
      "\n",
      "JUNCTIONTYPE\n",
      "False    30190\n",
      "True       514\n",
      "Name: JUNCTIONTYPE, dtype: int64\n",
      "\n",
      "SDOT_COLCODE\n",
      "False    30704\n",
      "Name: SDOT_COLCODE, dtype: int64\n",
      "\n",
      "INATTENTIONIND\n",
      "True     24568\n",
      "False     6136\n",
      "Name: INATTENTIONIND, dtype: int64\n",
      "\n",
      "UNDERINFL\n",
      "False    29161\n",
      "True      1543\n",
      "Name: UNDERINFL, dtype: int64\n",
      "\n",
      "WEATHER\n",
      "False    29092\n",
      "True      1612\n",
      "Name: WEATHER, dtype: int64\n",
      "\n",
      "ROADCOND\n",
      "False    29120\n",
      "True      1584\n",
      "Name: ROADCOND, dtype: int64\n",
      "\n",
      "LIGHTCOND\n",
      "False    29082\n",
      "True      1622\n",
      "Name: LIGHTCOND, dtype: int64\n",
      "\n",
      "PEDROWNOTGRNT\n",
      "True     30121\n",
      "False      583\n",
      "Name: PEDROWNOTGRNT, dtype: int64\n",
      "\n",
      "SPEEDING\n",
      "True     29627\n",
      "False     1077\n",
      "Name: SPEEDING, dtype: int64\n",
      "\n",
      "ST_COLCODE\n",
      "False    30686\n",
      "True        18\n",
      "Name: ST_COLCODE, dtype: int64\n",
      "\n",
      "HITPARKEDCAR\n",
      "False    30704\n",
      "Name: HITPARKEDCAR, dtype: int64\n",
      "\n"
     ]
    }
   ],
   "source": [
    "#show missing data for each variable\n",
    "missing_data = df.isnull()\n",
    "for column in missing_data.columns.values.tolist():\n",
    "    print(column)\n",
    "    print (missing_data[column].value_counts())\n",
    "    print(\"\")    "
   ]
  },
  {
   "cell_type": "code",
   "execution_count": 13,
   "metadata": {},
   "outputs": [],
   "source": [
    "##select only rows with non-missing ROADCOND, weather, road condition, light condition, addrtype\n",
    "df = df[df['ADDRTYPE'].notna()]\n",
    "df = df[df['WEATHER'].notna()]\n",
    "df = df[df['ROADCOND'].notna()]\n",
    "df = df[df['LIGHTCOND'].notna()]"
   ]
  },
  {
   "cell_type": "code",
   "execution_count": 14,
   "metadata": {},
   "outputs": [],
   "source": [
    "##select only rows with SDOT_COLCODE with sufficient information\n",
    "df = df[df['SDOT_COLCODE']!=0]"
   ]
  },
  {
   "cell_type": "code",
   "execution_count": 15,
   "metadata": {},
   "outputs": [],
   "source": [
    "##replace missing values for COLLISIONTYPE as Other\n",
    "df[\"COLLISIONTYPE\"].replace(np.nan, 'Other', inplace=True)"
   ]
  },
  {
   "cell_type": "code",
   "execution_count": 16,
   "metadata": {},
   "outputs": [],
   "source": [
    "##replace missing values for COLLISIONTYPE as Other\n",
    "df[\"JUNCTIONTYPE\"].replace(np.nan, 'Unknown', inplace=True)"
   ]
  },
  {
   "cell_type": "code",
   "execution_count": 17,
   "metadata": {},
   "outputs": [],
   "source": [
    "##replace missing values for INATTENTIONIND as N, and replace Y as 1 and N as 0\n",
    "df[\"INATTENTIONIND\"].replace(np.nan, 'N', inplace=True)\n",
    "df['INATTENTIONIND'] = df['INATTENTIONIND'].map({'Y': 1, 'N': 0})"
   ]
  },
  {
   "cell_type": "code",
   "execution_count": 18,
   "metadata": {},
   "outputs": [],
   "source": [
    "##replace missing values for PEDROWNOTGRNT as N, and replace Y as 1 and N as 0\n",
    "df[\"PEDROWNOTGRNT\"].replace(np.nan, 'N', inplace=True)\n",
    "df['PEDROWNOTGRNT'] = df['PEDROWNOTGRNT'].map({'Y': 1, 'N': 0})"
   ]
  },
  {
   "cell_type": "code",
   "execution_count": 19,
   "metadata": {},
   "outputs": [],
   "source": [
    "##replace missing values for SPEEDING as N, and replace Y as 1 and N as 0\n",
    "df[\"SPEEDING\"].replace(np.nan, 'N', inplace=True)\n",
    "df['SPEEDING'] = df['SPEEDING'].map({'Y': 1, 'N': 0})"
   ]
  },
  {
   "cell_type": "code",
   "execution_count": 20,
   "metadata": {},
   "outputs": [],
   "source": [
    "##replace missing values for UNDERINFL as N, and replace Y as 1 and N as 0\n",
    "df[\"UNDERINFL\"].replace(np.nan, 'N', inplace=True)\n",
    "df['UNDERINFL'] = df['UNDERINFL'].map({'Y': 1, 'N': 0, '1':1, '0':0})"
   ]
  },
  {
   "cell_type": "code",
   "execution_count": 21,
   "metadata": {},
   "outputs": [],
   "source": [
    "##replace missing values for ST_COLCODE as 31 - not stated\n",
    "df[\"ST_COLCODE\"].replace(np.nan, '31', inplace=True)"
   ]
  },
  {
   "cell_type": "code",
   "execution_count": 22,
   "metadata": {},
   "outputs": [],
   "source": [
    "##for HITPARKEDCAR, replace Y as 1 and N as 0\n",
    "df['HITPARKEDCAR'] = df['HITPARKEDCAR'].map({'Y': 1, 'N': 0})"
   ]
  },
  {
   "cell_type": "code",
   "execution_count": 23,
   "metadata": {},
   "outputs": [],
   "source": [
    "##for target variable SEVERITYCODE, replace 2 as 1 and 1 as 0\n",
    "df['SEVERITYCODE'] = df['SEVERITYCODE'].map({2: 1, 1: 0})"
   ]
  },
  {
   "cell_type": "code",
   "execution_count": 24,
   "metadata": {},
   "outputs": [
    {
     "name": "stdout",
     "output_type": "stream",
     "text": [
      "SEVERITYCODE\n",
      "False    28218\n",
      "Name: SEVERITYCODE, dtype: int64\n",
      "\n",
      "ADDRTYPE\n",
      "False    28218\n",
      "Name: ADDRTYPE, dtype: int64\n",
      "\n",
      "COLLISIONTYPE\n",
      "False    28218\n",
      "Name: COLLISIONTYPE, dtype: int64\n",
      "\n",
      "PERSONCOUNT\n",
      "False    28218\n",
      "Name: PERSONCOUNT, dtype: int64\n",
      "\n",
      "PEDCOUNT\n",
      "False    28218\n",
      "Name: PEDCOUNT, dtype: int64\n",
      "\n",
      "PEDCYLCOUNT\n",
      "False    28218\n",
      "Name: PEDCYLCOUNT, dtype: int64\n",
      "\n",
      "VEHCOUNT\n",
      "False    28218\n",
      "Name: VEHCOUNT, dtype: int64\n",
      "\n",
      "JUNCTIONTYPE\n",
      "False    28218\n",
      "Name: JUNCTIONTYPE, dtype: int64\n",
      "\n",
      "SDOT_COLCODE\n",
      "False    28218\n",
      "Name: SDOT_COLCODE, dtype: int64\n",
      "\n",
      "INATTENTIONIND\n",
      "False    28218\n",
      "Name: INATTENTIONIND, dtype: int64\n",
      "\n",
      "UNDERINFL\n",
      "False    28218\n",
      "Name: UNDERINFL, dtype: int64\n",
      "\n",
      "WEATHER\n",
      "False    28218\n",
      "Name: WEATHER, dtype: int64\n",
      "\n",
      "ROADCOND\n",
      "False    28218\n",
      "Name: ROADCOND, dtype: int64\n",
      "\n",
      "LIGHTCOND\n",
      "False    28218\n",
      "Name: LIGHTCOND, dtype: int64\n",
      "\n",
      "PEDROWNOTGRNT\n",
      "False    28218\n",
      "Name: PEDROWNOTGRNT, dtype: int64\n",
      "\n",
      "SPEEDING\n",
      "False    28218\n",
      "Name: SPEEDING, dtype: int64\n",
      "\n",
      "ST_COLCODE\n",
      "False    28218\n",
      "Name: ST_COLCODE, dtype: int64\n",
      "\n",
      "HITPARKEDCAR\n",
      "False    28218\n",
      "Name: HITPARKEDCAR, dtype: int64\n",
      "\n"
     ]
    }
   ],
   "source": [
    "##verify if all missing data are fixed\n",
    "missing_data = df.isnull()\n",
    "for column in missing_data.columns.values.tolist():\n",
    "    print(column)\n",
    "    print (missing_data[column].value_counts())\n",
    "    print(\"\")    "
   ]
  },
  {
   "cell_type": "code",
   "execution_count": 25,
   "metadata": {},
   "outputs": [
    {
     "data": {
      "text/html": [
       "<div>\n",
       "<style scoped>\n",
       "    .dataframe tbody tr th:only-of-type {\n",
       "        vertical-align: middle;\n",
       "    }\n",
       "\n",
       "    .dataframe tbody tr th {\n",
       "        vertical-align: top;\n",
       "    }\n",
       "\n",
       "    .dataframe thead th {\n",
       "        text-align: right;\n",
       "    }\n",
       "</style>\n",
       "<table border=\"1\" class=\"dataframe\">\n",
       "  <thead>\n",
       "    <tr style=\"text-align: right;\">\n",
       "      <th></th>\n",
       "      <th>SEVERITYCODE</th>\n",
       "      <th>ADDRTYPE</th>\n",
       "      <th>COLLISIONTYPE</th>\n",
       "      <th>PERSONCOUNT</th>\n",
       "      <th>PEDCOUNT</th>\n",
       "      <th>PEDCYLCOUNT</th>\n",
       "      <th>VEHCOUNT</th>\n",
       "      <th>JUNCTIONTYPE</th>\n",
       "      <th>SDOT_COLCODE</th>\n",
       "      <th>INATTENTIONIND</th>\n",
       "      <th>UNDERINFL</th>\n",
       "      <th>WEATHER</th>\n",
       "      <th>ROADCOND</th>\n",
       "      <th>LIGHTCOND</th>\n",
       "      <th>PEDROWNOTGRNT</th>\n",
       "      <th>SPEEDING</th>\n",
       "      <th>ST_COLCODE</th>\n",
       "      <th>HITPARKEDCAR</th>\n",
       "    </tr>\n",
       "  </thead>\n",
       "  <tbody>\n",
       "    <tr>\n",
       "      <th>5</th>\n",
       "      <td>0</td>\n",
       "      <td>Intersection</td>\n",
       "      <td>Angles</td>\n",
       "      <td>2</td>\n",
       "      <td>0</td>\n",
       "      <td>0</td>\n",
       "      <td>2</td>\n",
       "      <td>At Intersection (intersection related)</td>\n",
       "      <td>11</td>\n",
       "      <td>0</td>\n",
       "      <td>0</td>\n",
       "      <td>Clear</td>\n",
       "      <td>Dry</td>\n",
       "      <td>Daylight</td>\n",
       "      <td>0</td>\n",
       "      <td>0</td>\n",
       "      <td>10</td>\n",
       "      <td>0</td>\n",
       "    </tr>\n",
       "    <tr>\n",
       "      <th>25</th>\n",
       "      <td>1</td>\n",
       "      <td>Block</td>\n",
       "      <td>Cycles</td>\n",
       "      <td>2</td>\n",
       "      <td>0</td>\n",
       "      <td>1</td>\n",
       "      <td>1</td>\n",
       "      <td>Mid-Block (not related to intersection)</td>\n",
       "      <td>18</td>\n",
       "      <td>1</td>\n",
       "      <td>0</td>\n",
       "      <td>Clear</td>\n",
       "      <td>Dry</td>\n",
       "      <td>Daylight</td>\n",
       "      <td>0</td>\n",
       "      <td>0</td>\n",
       "      <td>5</td>\n",
       "      <td>0</td>\n",
       "    </tr>\n",
       "    <tr>\n",
       "      <th>35</th>\n",
       "      <td>0</td>\n",
       "      <td>Block</td>\n",
       "      <td>Parked Car</td>\n",
       "      <td>2</td>\n",
       "      <td>0</td>\n",
       "      <td>0</td>\n",
       "      <td>2</td>\n",
       "      <td>Mid-Block (not related to intersection)</td>\n",
       "      <td>14</td>\n",
       "      <td>0</td>\n",
       "      <td>0</td>\n",
       "      <td>Raining</td>\n",
       "      <td>Wet</td>\n",
       "      <td>Daylight</td>\n",
       "      <td>0</td>\n",
       "      <td>0</td>\n",
       "      <td>32</td>\n",
       "      <td>1</td>\n",
       "    </tr>\n",
       "    <tr>\n",
       "      <th>45</th>\n",
       "      <td>0</td>\n",
       "      <td>Block</td>\n",
       "      <td>Parked Car</td>\n",
       "      <td>2</td>\n",
       "      <td>0</td>\n",
       "      <td>0</td>\n",
       "      <td>2</td>\n",
       "      <td>Mid-Block (not related to intersection)</td>\n",
       "      <td>11</td>\n",
       "      <td>0</td>\n",
       "      <td>0</td>\n",
       "      <td>Clear</td>\n",
       "      <td>Dry</td>\n",
       "      <td>Daylight</td>\n",
       "      <td>0</td>\n",
       "      <td>0</td>\n",
       "      <td>32</td>\n",
       "      <td>0</td>\n",
       "    </tr>\n",
       "    <tr>\n",
       "      <th>58</th>\n",
       "      <td>1</td>\n",
       "      <td>Block</td>\n",
       "      <td>Rear Ended</td>\n",
       "      <td>3</td>\n",
       "      <td>0</td>\n",
       "      <td>0</td>\n",
       "      <td>2</td>\n",
       "      <td>Mid-Block (not related to intersection)</td>\n",
       "      <td>14</td>\n",
       "      <td>0</td>\n",
       "      <td>0</td>\n",
       "      <td>Overcast</td>\n",
       "      <td>Dry</td>\n",
       "      <td>Daylight</td>\n",
       "      <td>0</td>\n",
       "      <td>0</td>\n",
       "      <td>14</td>\n",
       "      <td>0</td>\n",
       "    </tr>\n",
       "  </tbody>\n",
       "</table>\n",
       "</div>"
      ],
      "text/plain": [
       "    SEVERITYCODE      ADDRTYPE COLLISIONTYPE  PERSONCOUNT  PEDCOUNT  \\\n",
       "5              0  Intersection        Angles            2         0   \n",
       "25             1         Block        Cycles            2         0   \n",
       "35             0         Block    Parked Car            2         0   \n",
       "45             0         Block    Parked Car            2         0   \n",
       "58             1         Block    Rear Ended            3         0   \n",
       "\n",
       "    PEDCYLCOUNT  VEHCOUNT                             JUNCTIONTYPE  \\\n",
       "5             0         2   At Intersection (intersection related)   \n",
       "25            1         1  Mid-Block (not related to intersection)   \n",
       "35            0         2  Mid-Block (not related to intersection)   \n",
       "45            0         2  Mid-Block (not related to intersection)   \n",
       "58            0         2  Mid-Block (not related to intersection)   \n",
       "\n",
       "    SDOT_COLCODE  INATTENTIONIND  UNDERINFL   WEATHER ROADCOND LIGHTCOND  \\\n",
       "5             11               0          0     Clear      Dry  Daylight   \n",
       "25            18               1          0     Clear      Dry  Daylight   \n",
       "35            14               0          0   Raining      Wet  Daylight   \n",
       "45            11               0          0     Clear      Dry  Daylight   \n",
       "58            14               0          0  Overcast      Dry  Daylight   \n",
       "\n",
       "    PEDROWNOTGRNT  SPEEDING ST_COLCODE  HITPARKEDCAR  \n",
       "5               0         0         10             0  \n",
       "25              0         0          5             0  \n",
       "35              0         0         32             1  \n",
       "45              0         0         32             0  \n",
       "58              0         0         14             0  "
      ]
     },
     "execution_count": 25,
     "metadata": {},
     "output_type": "execute_result"
    }
   ],
   "source": [
    "df.head()"
   ]
  },
  {
   "cell_type": "code",
   "execution_count": 26,
   "metadata": {},
   "outputs": [
    {
     "data": {
      "text/html": [
       "<div>\n",
       "<style scoped>\n",
       "    .dataframe tbody tr th:only-of-type {\n",
       "        vertical-align: middle;\n",
       "    }\n",
       "\n",
       "    .dataframe tbody tr th {\n",
       "        vertical-align: top;\n",
       "    }\n",
       "\n",
       "    .dataframe thead th {\n",
       "        text-align: right;\n",
       "    }\n",
       "</style>\n",
       "<table border=\"1\" class=\"dataframe\">\n",
       "  <thead>\n",
       "    <tr style=\"text-align: right;\">\n",
       "      <th></th>\n",
       "      <th>SEVERITYCODE</th>\n",
       "      <th>PERSONCOUNT</th>\n",
       "      <th>PEDCOUNT</th>\n",
       "      <th>PEDCYLCOUNT</th>\n",
       "      <th>VEHCOUNT</th>\n",
       "      <th>SDOT_COLCODE</th>\n",
       "      <th>INATTENTIONIND</th>\n",
       "      <th>UNDERINFL</th>\n",
       "      <th>PEDROWNOTGRNT</th>\n",
       "      <th>SPEEDING</th>\n",
       "      <th>HITPARKEDCAR</th>\n",
       "    </tr>\n",
       "  </thead>\n",
       "  <tbody>\n",
       "    <tr>\n",
       "      <th>SEVERITYCODE</th>\n",
       "      <td>1.000000</td>\n",
       "      <td>0.104646</td>\n",
       "      <td>0.256414</td>\n",
       "      <td>0.225628</td>\n",
       "      <td>-0.097623</td>\n",
       "      <td>0.165935</td>\n",
       "      <td>0.031194</td>\n",
       "      <td>0.021814</td>\n",
       "      <td>0.172128</td>\n",
       "      <td>0.036662</td>\n",
       "      <td>-0.193928</td>\n",
       "    </tr>\n",
       "    <tr>\n",
       "      <th>PERSONCOUNT</th>\n",
       "      <td>0.104646</td>\n",
       "      <td>1.000000</td>\n",
       "      <td>-0.029555</td>\n",
       "      <td>-0.038679</td>\n",
       "      <td>0.373685</td>\n",
       "      <td>-0.179681</td>\n",
       "      <td>0.104650</td>\n",
       "      <td>0.027674</td>\n",
       "      <td>-0.008318</td>\n",
       "      <td>0.018736</td>\n",
       "      <td>-0.035868</td>\n",
       "    </tr>\n",
       "    <tr>\n",
       "      <th>PEDCOUNT</th>\n",
       "      <td>0.256414</td>\n",
       "      <td>-0.029555</td>\n",
       "      <td>1.000000</td>\n",
       "      <td>-0.025044</td>\n",
       "      <td>-0.343022</td>\n",
       "      <td>0.339414</td>\n",
       "      <td>0.003142</td>\n",
       "      <td>-0.005971</td>\n",
       "      <td>0.446868</td>\n",
       "      <td>-0.033093</td>\n",
       "      <td>-0.074862</td>\n",
       "    </tr>\n",
       "    <tr>\n",
       "      <th>PEDCYLCOUNT</th>\n",
       "      <td>0.225628</td>\n",
       "      <td>-0.038679</td>\n",
       "      <td>-0.025044</td>\n",
       "      <td>1.000000</td>\n",
       "      <td>-0.322965</td>\n",
       "      <td>0.400409</td>\n",
       "      <td>0.015765</td>\n",
       "      <td>-0.020199</td>\n",
       "      <td>0.182306</td>\n",
       "      <td>-0.025386</td>\n",
       "      <td>-0.067015</td>\n",
       "    </tr>\n",
       "    <tr>\n",
       "      <th>VEHCOUNT</th>\n",
       "      <td>-0.097623</td>\n",
       "      <td>0.373685</td>\n",
       "      <td>-0.343022</td>\n",
       "      <td>-0.322965</td>\n",
       "      <td>1.000000</td>\n",
       "      <td>-0.540246</td>\n",
       "      <td>0.027923</td>\n",
       "      <td>-0.008065</td>\n",
       "      <td>-0.233464</td>\n",
       "      <td>-0.031151</td>\n",
       "      <td>0.148119</td>\n",
       "    </tr>\n",
       "    <tr>\n",
       "      <th>SDOT_COLCODE</th>\n",
       "      <td>0.165935</td>\n",
       "      <td>-0.179681</td>\n",
       "      <td>0.339414</td>\n",
       "      <td>0.400409</td>\n",
       "      <td>-0.540246</td>\n",
       "      <td>1.000000</td>\n",
       "      <td>-0.003311</td>\n",
       "      <td>0.090273</td>\n",
       "      <td>0.225640</td>\n",
       "      <td>0.124886</td>\n",
       "      <td>-0.087153</td>\n",
       "    </tr>\n",
       "    <tr>\n",
       "      <th>INATTENTIONIND</th>\n",
       "      <td>0.031194</td>\n",
       "      <td>0.104650</td>\n",
       "      <td>0.003142</td>\n",
       "      <td>0.015765</td>\n",
       "      <td>0.027923</td>\n",
       "      <td>-0.003311</td>\n",
       "      <td>1.000000</td>\n",
       "      <td>-0.043719</td>\n",
       "      <td>-0.028370</td>\n",
       "      <td>-0.041109</td>\n",
       "      <td>-0.027658</td>\n",
       "    </tr>\n",
       "    <tr>\n",
       "      <th>UNDERINFL</th>\n",
       "      <td>0.021814</td>\n",
       "      <td>0.027674</td>\n",
       "      <td>-0.005971</td>\n",
       "      <td>-0.020199</td>\n",
       "      <td>-0.008065</td>\n",
       "      <td>0.090273</td>\n",
       "      <td>-0.043719</td>\n",
       "      <td>1.000000</td>\n",
       "      <td>-0.021145</td>\n",
       "      <td>0.069134</td>\n",
       "      <td>0.047986</td>\n",
       "    </tr>\n",
       "    <tr>\n",
       "      <th>PEDROWNOTGRNT</th>\n",
       "      <td>0.172128</td>\n",
       "      <td>-0.008318</td>\n",
       "      <td>0.446868</td>\n",
       "      <td>0.182306</td>\n",
       "      <td>-0.233464</td>\n",
       "      <td>0.225640</td>\n",
       "      <td>-0.028370</td>\n",
       "      <td>-0.021145</td>\n",
       "      <td>1.000000</td>\n",
       "      <td>-0.023200</td>\n",
       "      <td>-0.050649</td>\n",
       "    </tr>\n",
       "    <tr>\n",
       "      <th>SPEEDING</th>\n",
       "      <td>0.036662</td>\n",
       "      <td>0.018736</td>\n",
       "      <td>-0.033093</td>\n",
       "      <td>-0.025386</td>\n",
       "      <td>-0.031151</td>\n",
       "      <td>0.124886</td>\n",
       "      <td>-0.041109</td>\n",
       "      <td>0.069134</td>\n",
       "      <td>-0.023200</td>\n",
       "      <td>1.000000</td>\n",
       "      <td>-0.031174</td>\n",
       "    </tr>\n",
       "    <tr>\n",
       "      <th>HITPARKEDCAR</th>\n",
       "      <td>-0.193928</td>\n",
       "      <td>-0.035868</td>\n",
       "      <td>-0.074862</td>\n",
       "      <td>-0.067015</td>\n",
       "      <td>0.148119</td>\n",
       "      <td>-0.087153</td>\n",
       "      <td>-0.027658</td>\n",
       "      <td>0.047986</td>\n",
       "      <td>-0.050649</td>\n",
       "      <td>-0.031174</td>\n",
       "      <td>1.000000</td>\n",
       "    </tr>\n",
       "  </tbody>\n",
       "</table>\n",
       "</div>"
      ],
      "text/plain": [
       "                SEVERITYCODE  PERSONCOUNT  PEDCOUNT  PEDCYLCOUNT  VEHCOUNT  \\\n",
       "SEVERITYCODE        1.000000     0.104646  0.256414     0.225628 -0.097623   \n",
       "PERSONCOUNT         0.104646     1.000000 -0.029555    -0.038679  0.373685   \n",
       "PEDCOUNT            0.256414    -0.029555  1.000000    -0.025044 -0.343022   \n",
       "PEDCYLCOUNT         0.225628    -0.038679 -0.025044     1.000000 -0.322965   \n",
       "VEHCOUNT           -0.097623     0.373685 -0.343022    -0.322965  1.000000   \n",
       "SDOT_COLCODE        0.165935    -0.179681  0.339414     0.400409 -0.540246   \n",
       "INATTENTIONIND      0.031194     0.104650  0.003142     0.015765  0.027923   \n",
       "UNDERINFL           0.021814     0.027674 -0.005971    -0.020199 -0.008065   \n",
       "PEDROWNOTGRNT       0.172128    -0.008318  0.446868     0.182306 -0.233464   \n",
       "SPEEDING            0.036662     0.018736 -0.033093    -0.025386 -0.031151   \n",
       "HITPARKEDCAR       -0.193928    -0.035868 -0.074862    -0.067015  0.148119   \n",
       "\n",
       "                SDOT_COLCODE  INATTENTIONIND  UNDERINFL  PEDROWNOTGRNT  \\\n",
       "SEVERITYCODE        0.165935        0.031194   0.021814       0.172128   \n",
       "PERSONCOUNT        -0.179681        0.104650   0.027674      -0.008318   \n",
       "PEDCOUNT            0.339414        0.003142  -0.005971       0.446868   \n",
       "PEDCYLCOUNT         0.400409        0.015765  -0.020199       0.182306   \n",
       "VEHCOUNT           -0.540246        0.027923  -0.008065      -0.233464   \n",
       "SDOT_COLCODE        1.000000       -0.003311   0.090273       0.225640   \n",
       "INATTENTIONIND     -0.003311        1.000000  -0.043719      -0.028370   \n",
       "UNDERINFL           0.090273       -0.043719   1.000000      -0.021145   \n",
       "PEDROWNOTGRNT       0.225640       -0.028370  -0.021145       1.000000   \n",
       "SPEEDING            0.124886       -0.041109   0.069134      -0.023200   \n",
       "HITPARKEDCAR       -0.087153       -0.027658   0.047986      -0.050649   \n",
       "\n",
       "                SPEEDING  HITPARKEDCAR  \n",
       "SEVERITYCODE    0.036662     -0.193928  \n",
       "PERSONCOUNT     0.018736     -0.035868  \n",
       "PEDCOUNT       -0.033093     -0.074862  \n",
       "PEDCYLCOUNT    -0.025386     -0.067015  \n",
       "VEHCOUNT       -0.031151      0.148119  \n",
       "SDOT_COLCODE    0.124886     -0.087153  \n",
       "INATTENTIONIND -0.041109     -0.027658  \n",
       "UNDERINFL       0.069134      0.047986  \n",
       "PEDROWNOTGRNT  -0.023200     -0.050649  \n",
       "SPEEDING        1.000000     -0.031174  \n",
       "HITPARKEDCAR   -0.031174      1.000000  "
      ]
     },
     "execution_count": 26,
     "metadata": {},
     "output_type": "execute_result"
    }
   ],
   "source": [
    "##correlation to see if any highly correlated features\n",
    "##none found\n",
    "df.corr()"
   ]
  },
  {
   "cell_type": "code",
   "execution_count": 27,
   "metadata": {},
   "outputs": [
    {
     "data": {
      "text/plain": [
       "(28218, 18)"
      ]
     },
     "execution_count": 27,
     "metadata": {},
     "output_type": "execute_result"
    }
   ],
   "source": [
    "##show final shape or data\n",
    "df.shape"
   ]
  },
  {
   "cell_type": "code",
   "execution_count": 28,
   "metadata": {},
   "outputs": [
    {
     "data": {
      "text/html": [
       "<div>\n",
       "<style scoped>\n",
       "    .dataframe tbody tr th:only-of-type {\n",
       "        vertical-align: middle;\n",
       "    }\n",
       "\n",
       "    .dataframe tbody tr th {\n",
       "        vertical-align: top;\n",
       "    }\n",
       "\n",
       "    .dataframe thead tr th {\n",
       "        text-align: left;\n",
       "    }\n",
       "\n",
       "    .dataframe thead tr:last-of-type th {\n",
       "        text-align: right;\n",
       "    }\n",
       "</style>\n",
       "<table border=\"1\" class=\"dataframe\">\n",
       "  <thead>\n",
       "    <tr>\n",
       "      <th></th>\n",
       "      <th>ADDRTYPE</th>\n",
       "      <th>COLLISIONTYPE</th>\n",
       "      <th>PERSONCOUNT</th>\n",
       "      <th>PEDCOUNT</th>\n",
       "      <th>PEDCYLCOUNT</th>\n",
       "      <th>VEHCOUNT</th>\n",
       "      <th>JUNCTIONTYPE</th>\n",
       "      <th>SDOT_COLCODE</th>\n",
       "      <th>INATTENTIONIND</th>\n",
       "      <th>UNDERINFL</th>\n",
       "      <th>WEATHER</th>\n",
       "      <th>ROADCOND</th>\n",
       "      <th>LIGHTCOND</th>\n",
       "      <th>PEDROWNOTGRNT</th>\n",
       "      <th>SPEEDING</th>\n",
       "      <th>ST_COLCODE</th>\n",
       "      <th>HITPARKEDCAR</th>\n",
       "    </tr>\n",
       "    <tr>\n",
       "      <th></th>\n",
       "      <th>count</th>\n",
       "      <th>count</th>\n",
       "      <th>count</th>\n",
       "      <th>count</th>\n",
       "      <th>count</th>\n",
       "      <th>count</th>\n",
       "      <th>count</th>\n",
       "      <th>count</th>\n",
       "      <th>count</th>\n",
       "      <th>count</th>\n",
       "      <th>count</th>\n",
       "      <th>count</th>\n",
       "      <th>count</th>\n",
       "      <th>count</th>\n",
       "      <th>count</th>\n",
       "      <th>count</th>\n",
       "      <th>count</th>\n",
       "    </tr>\n",
       "    <tr>\n",
       "      <th>SEVERITYCODE</th>\n",
       "      <th></th>\n",
       "      <th></th>\n",
       "      <th></th>\n",
       "      <th></th>\n",
       "      <th></th>\n",
       "      <th></th>\n",
       "      <th></th>\n",
       "      <th></th>\n",
       "      <th></th>\n",
       "      <th></th>\n",
       "      <th></th>\n",
       "      <th></th>\n",
       "      <th></th>\n",
       "      <th></th>\n",
       "      <th></th>\n",
       "      <th></th>\n",
       "      <th></th>\n",
       "    </tr>\n",
       "  </thead>\n",
       "  <tbody>\n",
       "    <tr>\n",
       "      <th>0</th>\n",
       "      <td>18679</td>\n",
       "      <td>18679</td>\n",
       "      <td>18679</td>\n",
       "      <td>18679</td>\n",
       "      <td>18679</td>\n",
       "      <td>18679</td>\n",
       "      <td>18679</td>\n",
       "      <td>18679</td>\n",
       "      <td>18679</td>\n",
       "      <td>18679</td>\n",
       "      <td>18679</td>\n",
       "      <td>18679</td>\n",
       "      <td>18679</td>\n",
       "      <td>18679</td>\n",
       "      <td>18679</td>\n",
       "      <td>18679</td>\n",
       "      <td>18679</td>\n",
       "    </tr>\n",
       "    <tr>\n",
       "      <th>1</th>\n",
       "      <td>9539</td>\n",
       "      <td>9539</td>\n",
       "      <td>9539</td>\n",
       "      <td>9539</td>\n",
       "      <td>9539</td>\n",
       "      <td>9539</td>\n",
       "      <td>9539</td>\n",
       "      <td>9539</td>\n",
       "      <td>9539</td>\n",
       "      <td>9539</td>\n",
       "      <td>9539</td>\n",
       "      <td>9539</td>\n",
       "      <td>9539</td>\n",
       "      <td>9539</td>\n",
       "      <td>9539</td>\n",
       "      <td>9539</td>\n",
       "      <td>9539</td>\n",
       "    </tr>\n",
       "  </tbody>\n",
       "</table>\n",
       "</div>"
      ],
      "text/plain": [
       "             ADDRTYPE COLLISIONTYPE PERSONCOUNT PEDCOUNT PEDCYLCOUNT VEHCOUNT  \\\n",
       "                count         count       count    count       count    count   \n",
       "SEVERITYCODE                                                                    \n",
       "0               18679         18679       18679    18679       18679    18679   \n",
       "1                9539          9539        9539     9539        9539     9539   \n",
       "\n",
       "             JUNCTIONTYPE SDOT_COLCODE INATTENTIONIND UNDERINFL WEATHER  \\\n",
       "                    count        count          count     count   count   \n",
       "SEVERITYCODE                                                              \n",
       "0                   18679        18679          18679     18679   18679   \n",
       "1                    9539         9539           9539      9539    9539   \n",
       "\n",
       "             ROADCOND LIGHTCOND PEDROWNOTGRNT SPEEDING ST_COLCODE HITPARKEDCAR  \n",
       "                count     count         count    count      count        count  \n",
       "SEVERITYCODE                                                                    \n",
       "0               18679     18679         18679    18679      18679        18679  \n",
       "1                9539      9539          9539     9539       9539         9539  "
      ]
     },
     "execution_count": 28,
     "metadata": {},
     "output_type": "execute_result"
    }
   ],
   "source": [
    "##see distribution of target variable, make sure it's not imbalanced\n",
    "df.groupby(['SEVERITYCODE']).agg(['count'])"
   ]
  },
  {
   "cell_type": "markdown",
   "metadata": {},
   "source": [
    "# Exploratory Data Analysis"
   ]
  },
  {
   "cell_type": "code",
   "execution_count": 29,
   "metadata": {},
   "outputs": [
    {
     "data": {
      "image/png": "[encoded data removed]",
      "text/plain": [
       "<Figure size 432x288 with 1 Axes>"
      ]
     },
     "metadata": {
      "needs_background": "light"
     },
     "output_type": "display_data"
    }
   ],
   "source": [
    "##bar chart to study relationship between ADDRTYPE and target SEVERITYCODE\n",
    "tab = pd.crosstab(df.ADDRTYPE, df.SEVERITYCODE).apply(lambda r: r/r.sum(), axis=1).sort_values(by=[1],ascending=False)\n",
    "\n",
    "columns_titles = [1,0]\n",
    "tab=tab.reindex(columns=columns_titles)\n",
    "\n",
    "ax = tab.plot(kind='bar', stacked=True, color=['tab:orange','tab:blue'])\n",
    "chartBox = ax.get_position()\n",
    "ax.set_position([chartBox.x0, chartBox.y0, chartBox.width*0.6, chartBox.height])\n",
    "ax.legend(loc='upper center', bbox_to_anchor=(1.45, 0.8), shadow=True, ncol=1)\n",
    "plt.show()"
   ]
  },
  {
   "cell_type": "code",
   "execution_count": 30,
   "metadata": {},
   "outputs": [
    {
     "data": {
      "image/png": "[encoded data removed]",
      "text/plain": [
       "<Figure size 432x288 with 1 Axes>"
      ]
     },
     "metadata": {
      "needs_background": "light"
     },
     "output_type": "display_data"
    }
   ],
   "source": [
    "##bar chart to study relationship between COLLISIONTYPE and target SEVERITYCODE\n",
    "tab = pd.crosstab(df.COLLISIONTYPE, df.SEVERITYCODE).apply(lambda r: r/r.sum(), axis=1).sort_values(by=[1],ascending=False)\n",
    "\n",
    "columns_titles = [1,0]\n",
    "tab=tab.reindex(columns=columns_titles)\n",
    "\n",
    "ax = tab.plot(kind='bar', stacked=True, color=['tab:orange','tab:blue'])\n",
    "chartBox = ax.get_position()\n",
    "ax.set_position([chartBox.x0, chartBox.y0, chartBox.width*0.6, chartBox.height])\n",
    "ax.legend(loc='upper center', bbox_to_anchor=(1.45, 0.8), shadow=True, ncol=1)\n",
    "plt.show()"
   ]
  },
  {
   "cell_type": "code",
   "execution_count": 31,
   "metadata": {},
   "outputs": [
    {
     "data": {
      "image/png": "[encoded data removed]",
      "text/plain": [
       "<Figure size 432x288 with 1 Axes>"
      ]
     },
     "metadata": {
      "needs_background": "light"
     },
     "output_type": "display_data"
    }
   ],
   "source": [
    "##bar chart to study relationship between JUNCTIONTYPE and target SEVERITYCODE\n",
    "tab = pd.crosstab(df.JUNCTIONTYPE, df.SEVERITYCODE).apply(lambda r: r/r.sum(), axis=1).sort_values(by=[1],ascending=False)\n",
    "\n",
    "columns_titles = [1,0]\n",
    "tab=tab.reindex(columns=columns_titles)\n",
    "\n",
    "ax = tab.plot(kind='bar', stacked=True, color=['tab:orange','tab:blue'])\n",
    "chartBox = ax.get_position()\n",
    "ax.set_position([chartBox.x0, chartBox.y0, chartBox.width*0.6, chartBox.height])\n",
    "ax.legend(loc='upper center', bbox_to_anchor=(1.45, 0.8), shadow=True, ncol=1)\n",
    "plt.show()"
   ]
  },
  {
   "cell_type": "code",
   "execution_count": 32,
   "metadata": {},
   "outputs": [
    {
     "data": {
      "image/png": "[encoded data removed]",
      "text/plain": [
       "<Figure size 432x288 with 1 Axes>"
      ]
     },
     "metadata": {
      "needs_background": "light"
     },
     "output_type": "display_data"
    }
   ],
   "source": [
    "##bar chart to study relationship between WEATHER and target SEVERITYCODE\n",
    "tab = pd.crosstab(df.WEATHER, df.SEVERITYCODE).apply(lambda r: r/r.sum(), axis=1).sort_values(by=[1],ascending=False)\n",
    "\n",
    "columns_titles = [1,0]\n",
    "tab=tab.reindex(columns=columns_titles)\n",
    "\n",
    "ax = tab.plot(kind='bar', stacked=True, color=['tab:orange','tab:blue'])\n",
    "chartBox = ax.get_position()\n",
    "ax.set_position([chartBox.x0, chartBox.y0, chartBox.width*0.6, chartBox.height])\n",
    "ax.legend(loc='upper center', bbox_to_anchor=(1.45, 0.8), shadow=True, ncol=1)\n",
    "plt.show()"
   ]
  },
  {
   "cell_type": "code",
   "execution_count": 33,
   "metadata": {},
   "outputs": [
    {
     "data": {
      "image/png": "[encoded data removed]",
      "text/plain": [
       "<Figure size 432x288 with 1 Axes>"
      ]
     },
     "metadata": {
      "needs_background": "light"
     },
     "output_type": "display_data"
    }
   ],
   "source": [
    "##bar chart to study relationship between ROADCOND and target SEVERITYCODE\n",
    "tab = pd.crosstab(df.ROADCOND, df.SEVERITYCODE).apply(lambda r: r/r.sum(), axis=1).sort_values(by=[1],ascending=False)\n",
    "\n",
    "columns_titles = [1,0]\n",
    "tab=tab.reindex(columns=columns_titles)\n",
    "\n",
    "ax = tab.plot(kind='bar', stacked=True, color=['tab:orange','tab:blue'])\n",
    "chartBox = ax.get_position()\n",
    "ax.set_position([chartBox.x0, chartBox.y0, chartBox.width*0.6, chartBox.height])\n",
    "ax.legend(loc='upper center', bbox_to_anchor=(1.45, 0.8), shadow=True, ncol=1)\n",
    "plt.show()"
   ]
  },
  {
   "cell_type": "code",
   "execution_count": 34,
   "metadata": {},
   "outputs": [
    {
     "data": {
      "image/png": "[encoded data removed]",
      "text/plain": [
       "<Figure size 432x288 with 1 Axes>"
      ]
     },
     "metadata": {
      "needs_background": "light"
     },
     "output_type": "display_data"
    }
   ],
   "source": [
    "##bar chart to study relationship between LIGHTCOND and target SEVERITYCODE\n",
    "tab = pd.crosstab(df.LIGHTCOND, df.SEVERITYCODE).apply(lambda r: r/r.sum(), axis=1).sort_values(by=[1],ascending=False)\n",
    "\n",
    "columns_titles = [1,0]\n",
    "tab=tab.reindex(columns=columns_titles)\n",
    "\n",
    "ax = tab.plot(kind='bar', stacked=True, color=['tab:orange','tab:blue'])\n",
    "chartBox = ax.get_position()\n",
    "ax.set_position([chartBox.x0, chartBox.y0, chartBox.width*0.6, chartBox.height])\n",
    "ax.legend(loc='upper center', bbox_to_anchor=(1.45, 0.8), shadow=True, ncol=1)\n",
    "plt.show()"
   ]
  },
  {
   "cell_type": "code",
   "execution_count": 35,
   "metadata": {},
   "outputs": [
    {
     "data": {
      "text/plain": [
       "<matplotlib.axes._subplots.AxesSubplot at 0x1ec00d69e80>"
      ]
     },
     "execution_count": 35,
     "metadata": {},
     "output_type": "execute_result"
    },
    {
     "data": {
      "image/png": "[encoded data removed]",
      "text/plain": [
       "<Figure size 792x648 with 2 Axes>"
      ]
     },
     "metadata": {
      "needs_background": "light"
     },
     "output_type": "display_data"
    }
   ],
   "source": [
    "##study correlation of numerical variables to make sure no multicollinearity\n",
    "\n",
    "# Compute the correlation matrix\n",
    "corr = df.corr()\n",
    "\n",
    "# Generate a mask for the upper triangle\n",
    "mask = np.triu(np.ones_like(corr, dtype=bool))\n",
    "\n",
    "# Set up the matplotlib figure\n",
    "f, ax = plt.subplots(figsize=(11, 9))\n",
    "\n",
    "# Generate a custom diverging colormap\n",
    "cmap = sns.diverging_palette(230, 20, as_cmap=True)\n",
    "\n",
    "# Draw the heatmap with the mask and correct aspect ratio\n",
    "sns.heatmap(corr, mask=mask, cmap=cmap, vmax=.3, center=0,\n",
    "            square=True, linewidths=.5, cbar_kws={\"shrink\": .5})"
   ]
  },
  {
   "cell_type": "markdown",
   "metadata": {},
   "source": [
    "# Predictive Model"
   ]
  },
  {
   "cell_type": "code",
   "execution_count": 36,
   "metadata": {},
   "outputs": [],
   "source": [
    "##convert categorical variables to dummies\n",
    "df = pd.get_dummies(df, columns=['ADDRTYPE', 'COLLISIONTYPE','JUNCTIONTYPE','SDOT_COLCODE','WEATHER','ROADCOND','LIGHTCOND','ST_COLCODE'])"
   ]
  },
  {
   "cell_type": "code",
   "execution_count": 37,
   "metadata": {},
   "outputs": [
    {
     "data": {
      "text/html": [
       "<div>\n",
       "<style scoped>\n",
       "    .dataframe tbody tr th:only-of-type {\n",
       "        vertical-align: middle;\n",
       "    }\n",
       "\n",
       "    .dataframe tbody tr th {\n",
       "        vertical-align: top;\n",
       "    }\n",
       "\n",
       "    .dataframe thead th {\n",
       "        text-align: right;\n",
       "    }\n",
       "</style>\n",
       "<table border=\"1\" class=\"dataframe\">\n",
       "  <thead>\n",
       "    <tr style=\"text-align: right;\">\n",
       "      <th></th>\n",
       "      <th>SEVERITYCODE</th>\n",
       "      <th>PERSONCOUNT</th>\n",
       "      <th>PEDCOUNT</th>\n",
       "      <th>PEDCYLCOUNT</th>\n",
       "      <th>VEHCOUNT</th>\n",
       "      <th>INATTENTIONIND</th>\n",
       "      <th>UNDERINFL</th>\n",
       "      <th>PEDROWNOTGRNT</th>\n",
       "      <th>SPEEDING</th>\n",
       "      <th>HITPARKEDCAR</th>\n",
       "      <th>...</th>\n",
       "      <th>ST_COLCODE_72</th>\n",
       "      <th>ST_COLCODE_73</th>\n",
       "      <th>ST_COLCODE_74</th>\n",
       "      <th>ST_COLCODE_8</th>\n",
       "      <th>ST_COLCODE_81</th>\n",
       "      <th>ST_COLCODE_82</th>\n",
       "      <th>ST_COLCODE_83</th>\n",
       "      <th>ST_COLCODE_84</th>\n",
       "      <th>ST_COLCODE_85</th>\n",
       "      <th>ST_COLCODE_88</th>\n",
       "    </tr>\n",
       "  </thead>\n",
       "  <tbody>\n",
       "    <tr>\n",
       "      <th>5</th>\n",
       "      <td>0</td>\n",
       "      <td>2</td>\n",
       "      <td>0</td>\n",
       "      <td>0</td>\n",
       "      <td>2</td>\n",
       "      <td>0</td>\n",
       "      <td>0</td>\n",
       "      <td>0</td>\n",
       "      <td>0</td>\n",
       "      <td>0</td>\n",
       "      <td>...</td>\n",
       "      <td>0</td>\n",
       "      <td>0</td>\n",
       "      <td>0</td>\n",
       "      <td>0</td>\n",
       "      <td>0</td>\n",
       "      <td>0</td>\n",
       "      <td>0</td>\n",
       "      <td>0</td>\n",
       "      <td>0</td>\n",
       "      <td>0</td>\n",
       "    </tr>\n",
       "    <tr>\n",
       "      <th>25</th>\n",
       "      <td>1</td>\n",
       "      <td>2</td>\n",
       "      <td>0</td>\n",
       "      <td>1</td>\n",
       "      <td>1</td>\n",
       "      <td>1</td>\n",
       "      <td>0</td>\n",
       "      <td>0</td>\n",
       "      <td>0</td>\n",
       "      <td>0</td>\n",
       "      <td>...</td>\n",
       "      <td>0</td>\n",
       "      <td>0</td>\n",
       "      <td>0</td>\n",
       "      <td>0</td>\n",
       "      <td>0</td>\n",
       "      <td>0</td>\n",
       "      <td>0</td>\n",
       "      <td>0</td>\n",
       "      <td>0</td>\n",
       "      <td>0</td>\n",
       "    </tr>\n",
       "    <tr>\n",
       "      <th>35</th>\n",
       "      <td>0</td>\n",
       "      <td>2</td>\n",
       "      <td>0</td>\n",
       "      <td>0</td>\n",
       "      <td>2</td>\n",
       "      <td>0</td>\n",
       "      <td>0</td>\n",
       "      <td>0</td>\n",
       "      <td>0</td>\n",
       "      <td>1</td>\n",
       "      <td>...</td>\n",
       "      <td>0</td>\n",
       "      <td>0</td>\n",
       "      <td>0</td>\n",
       "      <td>0</td>\n",
       "      <td>0</td>\n",
       "      <td>0</td>\n",
       "      <td>0</td>\n",
       "      <td>0</td>\n",
       "      <td>0</td>\n",
       "      <td>0</td>\n",
       "    </tr>\n",
       "    <tr>\n",
       "      <th>45</th>\n",
       "      <td>0</td>\n",
       "      <td>2</td>\n",
       "      <td>0</td>\n",
       "      <td>0</td>\n",
       "      <td>2</td>\n",
       "      <td>0</td>\n",
       "      <td>0</td>\n",
       "      <td>0</td>\n",
       "      <td>0</td>\n",
       "      <td>0</td>\n",
       "      <td>...</td>\n",
       "      <td>0</td>\n",
       "      <td>0</td>\n",
       "      <td>0</td>\n",
       "      <td>0</td>\n",
       "      <td>0</td>\n",
       "      <td>0</td>\n",
       "      <td>0</td>\n",
       "      <td>0</td>\n",
       "      <td>0</td>\n",
       "      <td>0</td>\n",
       "    </tr>\n",
       "    <tr>\n",
       "      <th>58</th>\n",
       "      <td>1</td>\n",
       "      <td>3</td>\n",
       "      <td>0</td>\n",
       "      <td>0</td>\n",
       "      <td>2</td>\n",
       "      <td>0</td>\n",
       "      <td>0</td>\n",
       "      <td>0</td>\n",
       "      <td>0</td>\n",
       "      <td>0</td>\n",
       "      <td>...</td>\n",
       "      <td>0</td>\n",
       "      <td>0</td>\n",
       "      <td>0</td>\n",
       "      <td>0</td>\n",
       "      <td>0</td>\n",
       "      <td>0</td>\n",
       "      <td>0</td>\n",
       "      <td>0</td>\n",
       "      <td>0</td>\n",
       "      <td>0</td>\n",
       "    </tr>\n",
       "  </tbody>\n",
       "</table>\n",
       "<p>5 rows × 139 columns</p>\n",
       "</div>"
      ],
      "text/plain": [
       "    SEVERITYCODE  PERSONCOUNT  PEDCOUNT  PEDCYLCOUNT  VEHCOUNT  \\\n",
       "5              0            2         0            0         2   \n",
       "25             1            2         0            1         1   \n",
       "35             0            2         0            0         2   \n",
       "45             0            2         0            0         2   \n",
       "58             1            3         0            0         2   \n",
       "\n",
       "    INATTENTIONIND  UNDERINFL  PEDROWNOTGRNT  SPEEDING  HITPARKEDCAR  ...  \\\n",
       "5                0          0              0         0             0  ...   \n",
       "25               1          0              0         0             0  ...   \n",
       "35               0          0              0         0             1  ...   \n",
       "45               0          0              0         0             0  ...   \n",
       "58               0          0              0         0             0  ...   \n",
       "\n",
       "    ST_COLCODE_72  ST_COLCODE_73  ST_COLCODE_74  ST_COLCODE_8  ST_COLCODE_81  \\\n",
       "5               0              0              0             0              0   \n",
       "25              0              0              0             0              0   \n",
       "35              0              0              0             0              0   \n",
       "45              0              0              0             0              0   \n",
       "58              0              0              0             0              0   \n",
       "\n",
       "    ST_COLCODE_82  ST_COLCODE_83  ST_COLCODE_84  ST_COLCODE_85  ST_COLCODE_88  \n",
       "5               0              0              0              0              0  \n",
       "25              0              0              0              0              0  \n",
       "35              0              0              0              0              0  \n",
       "45              0              0              0              0              0  \n",
       "58              0              0              0              0              0  \n",
       "\n",
       "[5 rows x 139 columns]"
      ]
     },
     "execution_count": 37,
     "metadata": {},
     "output_type": "execute_result"
    }
   ],
   "source": [
    "df.head()"
   ]
  },
  {
   "cell_type": "code",
   "execution_count": 38,
   "metadata": {},
   "outputs": [
    {
     "name": "stdout",
     "output_type": "stream",
     "text": [
      "SEVERITYCODE\n",
      "PERSONCOUNT\n",
      "PEDCOUNT\n",
      "PEDCYLCOUNT\n",
      "VEHCOUNT\n",
      "INATTENTIONIND\n",
      "UNDERINFL\n",
      "PEDROWNOTGRNT\n",
      "SPEEDING\n",
      "HITPARKEDCAR\n",
      "ADDRTYPE_Alley\n",
      "ADDRTYPE_Block\n",
      "ADDRTYPE_Intersection\n",
      "COLLISIONTYPE_Angles\n",
      "COLLISIONTYPE_Cycles\n",
      "COLLISIONTYPE_Head On\n",
      "COLLISIONTYPE_Left Turn\n",
      "COLLISIONTYPE_Other\n",
      "COLLISIONTYPE_Parked Car\n",
      "COLLISIONTYPE_Pedestrian\n",
      "COLLISIONTYPE_Rear Ended\n",
      "COLLISIONTYPE_Right Turn\n",
      "COLLISIONTYPE_Sideswipe\n",
      "JUNCTIONTYPE_At Intersection (but not related to intersection)\n",
      "JUNCTIONTYPE_At Intersection (intersection related)\n",
      "JUNCTIONTYPE_Driveway Junction\n",
      "JUNCTIONTYPE_Mid-Block (but intersection related)\n",
      "JUNCTIONTYPE_Mid-Block (not related to intersection)\n",
      "JUNCTIONTYPE_Ramp Junction\n",
      "JUNCTIONTYPE_Unknown\n",
      "SDOT_COLCODE_11\n",
      "SDOT_COLCODE_12\n",
      "SDOT_COLCODE_13\n",
      "SDOT_COLCODE_14\n",
      "SDOT_COLCODE_15\n",
      "SDOT_COLCODE_16\n",
      "SDOT_COLCODE_18\n",
      "SDOT_COLCODE_21\n",
      "SDOT_COLCODE_22\n",
      "SDOT_COLCODE_23\n",
      "SDOT_COLCODE_24\n",
      "SDOT_COLCODE_25\n",
      "SDOT_COLCODE_26\n",
      "SDOT_COLCODE_27\n",
      "SDOT_COLCODE_28\n",
      "SDOT_COLCODE_29\n",
      "SDOT_COLCODE_31\n",
      "SDOT_COLCODE_32\n",
      "SDOT_COLCODE_33\n",
      "SDOT_COLCODE_34\n",
      "SDOT_COLCODE_48\n",
      "SDOT_COLCODE_51\n",
      "SDOT_COLCODE_54\n",
      "SDOT_COLCODE_55\n",
      "SDOT_COLCODE_56\n",
      "SDOT_COLCODE_61\n",
      "SDOT_COLCODE_64\n",
      "SDOT_COLCODE_66\n",
      "SDOT_COLCODE_69\n",
      "WEATHER_Blowing Sand/Dirt\n",
      "WEATHER_Clear\n",
      "WEATHER_Fog/Smog/Smoke\n",
      "WEATHER_Other\n",
      "WEATHER_Overcast\n",
      "WEATHER_Raining\n",
      "WEATHER_Severe Crosswind\n",
      "WEATHER_Sleet/Hail/Freezing Rain\n",
      "WEATHER_Snowing\n",
      "WEATHER_Unknown\n",
      "ROADCOND_Dry\n",
      "ROADCOND_Ice\n",
      "ROADCOND_Oil\n",
      "ROADCOND_Other\n",
      "ROADCOND_Sand/Mud/Dirt\n",
      "ROADCOND_Snow/Slush\n",
      "ROADCOND_Standing Water\n",
      "ROADCOND_Unknown\n",
      "ROADCOND_Wet\n",
      "LIGHTCOND_Dark - No Street Lights\n",
      "LIGHTCOND_Dark - Street Lights Off\n",
      "LIGHTCOND_Dark - Street Lights On\n",
      "LIGHTCOND_Dawn\n",
      "LIGHTCOND_Daylight\n",
      "LIGHTCOND_Dusk\n",
      "LIGHTCOND_Other\n",
      "LIGHTCOND_Unknown\n",
      "ST_COLCODE_ \n",
      "ST_COLCODE_0\n",
      "ST_COLCODE_1\n",
      "ST_COLCODE_10\n",
      "ST_COLCODE_11\n",
      "ST_COLCODE_12\n",
      "ST_COLCODE_13\n",
      "ST_COLCODE_14\n",
      "ST_COLCODE_15\n",
      "ST_COLCODE_16\n",
      "ST_COLCODE_17\n",
      "ST_COLCODE_18\n",
      "ST_COLCODE_19\n",
      "ST_COLCODE_2\n",
      "ST_COLCODE_20\n",
      "ST_COLCODE_23\n",
      "ST_COLCODE_24\n",
      "ST_COLCODE_25\n",
      "ST_COLCODE_26\n",
      "ST_COLCODE_27\n",
      "ST_COLCODE_28\n",
      "ST_COLCODE_29\n",
      "ST_COLCODE_3\n",
      "ST_COLCODE_30\n",
      "ST_COLCODE_31\n",
      "ST_COLCODE_32\n",
      "ST_COLCODE_4\n",
      "ST_COLCODE_40\n",
      "ST_COLCODE_41\n",
      "ST_COLCODE_42\n",
      "ST_COLCODE_45\n",
      "ST_COLCODE_48\n",
      "ST_COLCODE_5\n",
      "ST_COLCODE_50\n",
      "ST_COLCODE_51\n",
      "ST_COLCODE_52\n",
      "ST_COLCODE_53\n",
      "ST_COLCODE_54\n",
      "ST_COLCODE_56\n",
      "ST_COLCODE_57\n",
      "ST_COLCODE_6\n",
      "ST_COLCODE_7\n",
      "ST_COLCODE_71\n",
      "ST_COLCODE_72\n",
      "ST_COLCODE_73\n",
      "ST_COLCODE_74\n",
      "ST_COLCODE_8\n",
      "ST_COLCODE_81\n",
      "ST_COLCODE_82\n",
      "ST_COLCODE_83\n",
      "ST_COLCODE_84\n",
      "ST_COLCODE_85\n",
      "ST_COLCODE_88\n"
     ]
    }
   ],
   "source": [
    "##study all columns including new dummies\n",
    "\n",
    "for col in df.columns: \n",
    "    print(col) "
   ]
  },
  {
   "cell_type": "code",
   "execution_count": 39,
   "metadata": {},
   "outputs": [
    {
     "name": "stdout",
     "output_type": "stream",
     "text": [
      "Train set: (19752, 138) (19752,)\n",
      "Test set: (8466, 138) (8466,)\n"
     ]
    }
   ],
   "source": [
    "##split data into train and test set\n",
    "\n",
    "from sklearn.model_selection import train_test_split\n",
    "\n",
    "y = df.SEVERITYCODE\n",
    "X = df.drop('SEVERITYCODE',axis=1)\n",
    "X= preprocessing.StandardScaler().fit(X).transform(X)\n",
    "\n",
    "X_train, X_test, y_train, y_test = train_test_split(X, y, test_size=0.3, random_state=3)\n",
    "\n",
    "print ('Train set:', X_train.shape,  y_train.shape)\n",
    "print ('Test set:', X_test.shape,  y_test.shape)"
   ]
  },
  {
   "cell_type": "markdown",
   "metadata": {},
   "source": [
    "# Model: KNN"
   ]
  },
  {
   "cell_type": "code",
   "execution_count": 40,
   "metadata": {},
   "outputs": [
    {
     "data": {
      "text/plain": [
       "array([0.64032601, 0.69076305, 0.66902906, 0.70257501, 0.68521143,\n",
       "       0.71226081, 0.70623671, 0.71686747, 0.70092133])"
      ]
     },
     "execution_count": 40,
     "metadata": {},
     "output_type": "execute_result"
    }
   ],
   "source": [
    "from sklearn.neighbors import KNeighborsClassifier\n",
    "from sklearn import metrics\n",
    "\n",
    "Ks = 10\n",
    "mean_acc = np.zeros((Ks-1))\n",
    "std_acc = np.zeros((Ks-1))\n",
    "ConfustionMx = [];\n",
    "for n in range(1,Ks):\n",
    "    \n",
    "    #Train Model and Predict  \n",
    "    neigh = KNeighborsClassifier(n_neighbors = n).fit(X_train,y_train)\n",
    "    yhat=neigh.predict(X_test)\n",
    "    mean_acc[n-1] = metrics.accuracy_score(y_test, yhat)\n",
    "\n",
    "    \n",
    "    std_acc[n-1]=np.std(yhat==y_test)/np.sqrt(yhat.shape[0])\n",
    "\n",
    "mean_acc"
   ]
  },
  {
   "cell_type": "code",
   "execution_count": 41,
   "metadata": {},
   "outputs": [
    {
     "data": {
      "image/png": "[encoded data removed]",
      "text/plain": [
       "<Figure size 432x288 with 1 Axes>"
      ]
     },
     "metadata": {
      "needs_background": "light"
     },
     "output_type": "display_data"
    }
   ],
   "source": [
    "plt.plot(range(1,Ks),mean_acc,'g')\n",
    "plt.fill_between(range(1,Ks),mean_acc - 1 * std_acc,mean_acc + 1 * std_acc, alpha=0.10)\n",
    "plt.legend(('Accuracy ', '+/- 3xstd'))\n",
    "plt.ylabel('Accuracy ')\n",
    "plt.xlabel('Number of Nabors (K)')\n",
    "plt.tight_layout()\n",
    "plt.show()"
   ]
  },
  {
   "cell_type": "code",
   "execution_count": 42,
   "metadata": {},
   "outputs": [
    {
     "name": "stdout",
     "output_type": "stream",
     "text": [
      "The best accuracy was with 0.7168674698795181 with k= 8\n"
     ]
    }
   ],
   "source": [
    "print( \"The best accuracy was with\", mean_acc.max(), \"with k=\", mean_acc.argmax()+1) "
   ]
  },
  {
   "cell_type": "code",
   "execution_count": 43,
   "metadata": {},
   "outputs": [],
   "source": [
    "k = 8\n",
    "#Train Model and Predict  \n",
    "neigh = KNeighborsClassifier(n_neighbors = k).fit(X_train,y_train)"
   ]
  },
  {
   "cell_type": "markdown",
   "metadata": {},
   "source": [
    "# Model: Decision Tree"
   ]
  },
  {
   "cell_type": "code",
   "execution_count": 44,
   "metadata": {},
   "outputs": [
    {
     "data": {
      "text/plain": [
       "DecisionTreeClassifier(criterion='entropy', max_depth=6)"
      ]
     },
     "execution_count": 44,
     "metadata": {},
     "output_type": "execute_result"
    }
   ],
   "source": [
    "from sklearn.tree import DecisionTreeClassifier\n",
    "\n",
    "tree = DecisionTreeClassifier(criterion=\"entropy\", max_depth = 6)\n",
    "tree # it shows the default parameters"
   ]
  },
  {
   "cell_type": "code",
   "execution_count": 45,
   "metadata": {},
   "outputs": [
    {
     "data": {
      "text/plain": [
       "DecisionTreeClassifier(criterion='entropy', max_depth=6)"
      ]
     },
     "execution_count": 45,
     "metadata": {},
     "output_type": "execute_result"
    }
   ],
   "source": [
    "tree.fit(X_train,y_train)"
   ]
  },
  {
   "cell_type": "code",
   "execution_count": 46,
   "metadata": {},
   "outputs": [
    {
     "name": "stdout",
     "output_type": "stream",
     "text": [
      "[0 0 0 0 0]\n",
      "184292    1\n",
      "175574    1\n",
      "161341    0\n",
      "179013    0\n",
      "192611    0\n",
      "Name: SEVERITYCODE, dtype: int64\n"
     ]
    }
   ],
   "source": [
    "predTree = tree.predict(X_test)\n",
    "\n",
    "print (predTree [0:5])\n",
    "print (y_test [0:5])"
   ]
  },
  {
   "cell_type": "code",
   "execution_count": 47,
   "metadata": {},
   "outputs": [
    {
     "name": "stdout",
     "output_type": "stream",
     "text": [
      "DecisionTrees's Accuracy:  0.7206472950626034\n"
     ]
    }
   ],
   "source": [
    "print(\"DecisionTrees's Accuracy: \", metrics.accuracy_score(y_test, predTree))"
   ]
  },
  {
   "cell_type": "markdown",
   "metadata": {},
   "source": [
    "# Model: SVM"
   ]
  },
  {
   "cell_type": "code",
   "execution_count": 48,
   "metadata": {},
   "outputs": [
    {
     "data": {
      "text/plain": [
       "SVC(probability=True)"
      ]
     },
     "execution_count": 48,
     "metadata": {},
     "output_type": "execute_result"
    }
   ],
   "source": [
    "from sklearn import svm\n",
    "clf = svm.SVC(kernel='rbf',probability=True)\n",
    "clf.fit(X_train, y_train) "
   ]
  },
  {
   "cell_type": "code",
   "execution_count": 49,
   "metadata": {},
   "outputs": [
    {
     "data": {
      "text/plain": [
       "array([0, 0, 0, 0, 0], dtype=int64)"
      ]
     },
     "execution_count": 49,
     "metadata": {},
     "output_type": "execute_result"
    }
   ],
   "source": [
    "yhat = clf.predict(X_test)\n",
    "yhat [0:5]"
   ]
  },
  {
   "cell_type": "code",
   "execution_count": 50,
   "metadata": {},
   "outputs": [
    {
     "name": "stdout",
     "output_type": "stream",
     "text": [
      "SVM's Accuracy:  0.7228915662650602\n"
     ]
    }
   ],
   "source": [
    "print(\"SVM's Accuracy: \", metrics.accuracy_score(y_test, yhat))"
   ]
  },
  {
   "cell_type": "markdown",
   "metadata": {},
   "source": [
    "# Model: Logistic Regression"
   ]
  },
  {
   "cell_type": "code",
   "execution_count": 51,
   "metadata": {},
   "outputs": [
    {
     "data": {
      "text/plain": [
       "LogisticRegression(C=0.01, solver='liblinear')"
      ]
     },
     "execution_count": 51,
     "metadata": {},
     "output_type": "execute_result"
    }
   ],
   "source": [
    "from sklearn.linear_model import LogisticRegression\n",
    "from sklearn.metrics import confusion_matrix\n",
    "LR = LogisticRegression(C=0.01, solver='liblinear').fit(X_train,y_train)\n",
    "LR"
   ]
  },
  {
   "cell_type": "code",
   "execution_count": 52,
   "metadata": {},
   "outputs": [
    {
     "data": {
      "text/plain": [
       "array([0, 1, 0, 0, 0], dtype=int64)"
      ]
     },
     "execution_count": 52,
     "metadata": {},
     "output_type": "execute_result"
    }
   ],
   "source": [
    "yhat = LR.predict(X_test)\n",
    "yhat [0:5]"
   ]
  },
  {
   "cell_type": "code",
   "execution_count": 53,
   "metadata": {},
   "outputs": [
    {
     "name": "stdout",
     "output_type": "stream",
     "text": [
      "Logistic Regression's Accuracy:  0.7309236947791165\n"
     ]
    }
   ],
   "source": [
    "print(\"Logistic Regression's Accuracy: \", metrics.accuracy_score(y_test, yhat))"
   ]
  },
  {
   "cell_type": "markdown",
   "metadata": {},
   "source": [
    "# Evaluate the Models"
   ]
  },
  {
   "cell_type": "code",
   "execution_count": 54,
   "metadata": {},
   "outputs": [],
   "source": [
    "from sklearn.metrics import jaccard_score\n",
    "from sklearn.metrics import f1_score\n",
    "from sklearn.metrics import log_loss\n",
    "from sklearn.metrics import confusion_matrix\n",
    "from sklearn.metrics import classification_report"
   ]
  },
  {
   "cell_type": "code",
   "execution_count": 55,
   "metadata": {},
   "outputs": [],
   "source": [
    "#predict y values\n",
    "y_predKNN = neigh.predict(X_test)\n",
    "y_predTree = tree.predict(X_test)\n",
    "y_predSVM = clf.predict(X_test)\n",
    "y_predLR = LR.predict(X_test)"
   ]
  },
  {
   "cell_type": "code",
   "execution_count": 56,
   "metadata": {},
   "outputs": [],
   "source": [
    "#get probability of y values\n",
    "y_pred_probKNN = neigh.predict_proba(X_test)\n",
    "y_pred_probTree = tree.predict_proba(X_test)\n",
    "y_pred_probSVM = clf.predict_proba(X_test)\n",
    "y_pred_probLR = LR.predict_proba(X_test)"
   ]
  },
  {
   "cell_type": "code",
   "execution_count": 57,
   "metadata": {},
   "outputs": [
    {
     "name": "stdout",
     "output_type": "stream",
     "text": [
      "              precision    recall  f1-score   support\n",
      "\n",
      "           0       0.74      0.89      0.81      5610\n",
      "           1       0.64      0.37      0.47      2856\n",
      "\n",
      "    accuracy                           0.72      8466\n",
      "   macro avg       0.69      0.63      0.64      8466\n",
      "weighted avg       0.70      0.72      0.69      8466\n",
      "\n"
     ]
    }
   ],
   "source": [
    "##classification report for KNN\n",
    "KNN_report = classification_report(y_test, y_predKNN)\n",
    "print(KNN_report)"
   ]
  },
  {
   "cell_type": "code",
   "execution_count": 58,
   "metadata": {},
   "outputs": [
    {
     "name": "stdout",
     "output_type": "stream",
     "text": [
      "              precision    recall  f1-score   support\n",
      "\n",
      "           0       0.71      0.98      0.82      5610\n",
      "           1       0.85      0.21      0.34      2856\n",
      "\n",
      "    accuracy                           0.72      8466\n",
      "   macro avg       0.78      0.60      0.58      8466\n",
      "weighted avg       0.76      0.72      0.66      8466\n",
      "\n"
     ]
    }
   ],
   "source": [
    "##classification report for Decision Tree\n",
    "Tree_report = classification_report(y_test, y_predTree)\n",
    "print(Tree_report)"
   ]
  },
  {
   "cell_type": "code",
   "execution_count": 59,
   "metadata": {},
   "outputs": [
    {
     "name": "stdout",
     "output_type": "stream",
     "text": [
      "              precision    recall  f1-score   support\n",
      "\n",
      "           0       0.71      0.97      0.82      5610\n",
      "           1       0.79      0.24      0.37      2856\n",
      "\n",
      "    accuracy                           0.72      8466\n",
      "   macro avg       0.75      0.60      0.60      8466\n",
      "weighted avg       0.74      0.72      0.67      8466\n",
      "\n"
     ]
    }
   ],
   "source": [
    "##classification report for SVM\n",
    "SVM_report = classification_report(y_test, y_predSVM)\n",
    "print(SVM_report)"
   ]
  },
  {
   "cell_type": "code",
   "execution_count": 60,
   "metadata": {},
   "outputs": [
    {
     "name": "stdout",
     "output_type": "stream",
     "text": [
      "              precision    recall  f1-score   support\n",
      "\n",
      "           0       0.73      0.94      0.82      5610\n",
      "           1       0.73      0.32      0.45      2856\n",
      "\n",
      "    accuracy                           0.73      8466\n",
      "   macro avg       0.73      0.63      0.64      8466\n",
      "weighted avg       0.73      0.73      0.70      8466\n",
      "\n"
     ]
    }
   ],
   "source": [
    "##classification report for Logistic Regression\n",
    "LR_report = classification_report(y_test, y_predLR)\n",
    "print(LR_report)"
   ]
  },
  {
   "cell_type": "code",
   "execution_count": 61,
   "metadata": {},
   "outputs": [
    {
     "name": "stdout",
     "output_type": "stream",
     "text": [
      "KNN's Jaccard:  0.30521739130434783\n",
      "Decision Tree's Jaccard:  0.20236087689713322\n",
      "SVM's Jaccard:  0.22727272727272727\n",
      "Logistic Regression's Jaccard:  0.28879175772713084\n"
     ]
    }
   ],
   "source": [
    "#Jaccard\n",
    "print(\"KNN's Jaccard: \", jaccard_score(y_test, y_predKNN))\n",
    "print(\"Decision Tree's Jaccard: \", jaccard_score(y_test, y_predTree))\n",
    "print(\"SVM's Jaccard: \", jaccard_score(y_test, y_predSVM))\n",
    "print(\"Logistic Regression's Jaccard: \", jaccard_score(y_test, y_predLR))"
   ]
  },
  {
   "cell_type": "code",
   "execution_count": 62,
   "metadata": {},
   "outputs": [
    {
     "name": "stdout",
     "output_type": "stream",
     "text": [
      "KNN's F1-score:  0.6926291781601623\n",
      "Decision Tree's F1-score:  0.6589627813067431\n",
      "SVM's F1-score:  0.6698772473913018\n",
      "Logistic Regression's F1-score:  0.69594248487597\n"
     ]
    }
   ],
   "source": [
    "#F1 score\n",
    "print(\"KNN's F1-score: \", f1_score(y_test, y_predKNN, average='weighted'))\n",
    "print(\"Decision Tree's F1-score: \", f1_score(y_test, y_predTree, average='weighted'))\n",
    "print(\"SVM's F1-score: \", f1_score(y_test, y_predSVM, average='weighted'))\n",
    "print(\"Logistic Regression's F1-score: \", f1_score(y_test, y_predLR, average='weighted'))"
   ]
  },
  {
   "cell_type": "code",
   "execution_count": 63,
   "metadata": {},
   "outputs": [
    {
     "data": {
      "image/png": "[encoded data removed]",
      "text/plain": [
       "<Figure size 432x288 with 1 Axes>"
      ]
     },
     "metadata": {
      "needs_background": "light"
     },
     "output_type": "display_data"
    }
   ],
   "source": [
    "##plot the ROC curve\n",
    "\n",
    "from sklearn.metrics import roc_curve\n",
    "\n",
    "# roc curve for models\n",
    "fpr1, tpr1, thresh1 = roc_curve(y_test, y_pred_probKNN[:,1], pos_label=1)\n",
    "fpr2, tpr2, thresh2 = roc_curve(y_test, y_pred_probTree[:,1], pos_label=1)\n",
    "fpr3, tpr3, thresh3 = roc_curve(y_test, y_pred_probSVM[:,1], pos_label=1)\n",
    "fpr4, tpr4, thresh4 = roc_curve(y_test, y_pred_probLR[:,1], pos_label=1)\n",
    "\n",
    "# roc curve for tpr = fpr \n",
    "random_probs = [0 for i in range(len(y_test))]\n",
    "p_fpr, p_tpr, _ = roc_curve(y_test, random_probs, pos_label=1)\n",
    "\n",
    "# plot roc curves\n",
    "plt.plot(fpr1, tpr1, linestyle='--',color='orange', label='KNN')\n",
    "plt.plot(fpr2, tpr2, linestyle='--',color='green', label='Decision Tree')\n",
    "plt.plot(fpr3, tpr3, linestyle='--',color='red', label='SVM')\n",
    "plt.plot(fpr4, tpr4, linestyle='--',color='purple', label='Logistic Regression')\n",
    "plt.plot(p_fpr, p_tpr, linestyle='--', color='blue')\n",
    "# title\n",
    "plt.title('ROC curve')\n",
    "# x label\n",
    "plt.xlabel('False Positive Rate')\n",
    "# y label\n",
    "plt.ylabel('True Positive rate')\n",
    "\n",
    "plt.legend(loc='best')\n",
    "plt.savefig('ROC',dpi=300)\n",
    "plt.show();"
   ]
  },
  {
   "cell_type": "code",
   "execution_count": 64,
   "metadata": {},
   "outputs": [
    {
     "name": "stdout",
     "output_type": "stream",
     "text": [
      "KNN's AUC:  0.716874753466449\n",
      "Decision Tree's AUC:  0.7503959516070243\n",
      "SVM's AUC:  0.7265916393295285\n",
      "Logistic Regression's AUC:  0.7680164534619551\n"
     ]
    }
   ],
   "source": [
    "##calculate area under the curve\n",
    "\n",
    "from sklearn.metrics import roc_auc_score\n",
    "\n",
    "# auc scores\n",
    "print(\"KNN's AUC: \", roc_auc_score(y_test, y_pred_probKNN[:,1]))\n",
    "print(\"Decision Tree's AUC: \", roc_auc_score(y_test, y_pred_probTree[:,1]))\n",
    "print(\"SVM's AUC: \", roc_auc_score(y_test, y_pred_probSVM[:,1]))\n",
    "print(\"Logistic Regression's AUC: \", roc_auc_score(y_test, y_pred_probLR[:,1]))"
   ]
  },
  {
   "cell_type": "markdown",
   "metadata": {},
   "source": [
    "# Logistic Regression seems to be the best model"
   ]
  }
 ],
 "metadata": {
  "kernelspec": {
   "display_name": "Python 3",
   "language": "python",
   "name": "python3"
  },
  "language_info": {
   "codemirror_mode": {
    "name": "ipython",
    "version": 3
   },
   "file_extension": ".py",
   "mimetype": "text/x-python",
   "name": "python",
   "nbconvert_exporter": "python",
   "pygments_lexer": "ipython3",
   "version": "3.8.3"
  }
 },
 "nbformat": 4,
 "nbformat_minor": 4
}
